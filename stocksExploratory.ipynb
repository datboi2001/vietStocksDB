{
 "cells": [
  {
   "cell_type": "code",
   "execution_count": 136,
   "id": "initial_id",
   "metadata": {
    "collapsed": true,
    "ExecuteTime": {
     "end_time": "2023-09-24T14:37:27.613887721Z",
     "start_time": "2023-09-24T14:37:27.573254878Z"
    }
   },
   "outputs": [],
   "source": [
    "import pandas as pd"
   ]
  },
  {
   "cell_type": "code",
   "execution_count": 137,
   "outputs": [],
   "source": [
    "stocksCollection = pd.read_json('data/vietStocks.json')"
   ],
   "metadata": {
    "collapsed": false,
    "ExecuteTime": {
     "end_time": "2023-09-24T14:37:27.623333353Z",
     "start_time": "2023-09-24T14:37:27.613765970Z"
    }
   },
   "id": "bca9293cff489f27"
  },
  {
   "cell_type": "code",
   "execution_count": 138,
   "outputs": [
    {
     "data": {
      "text/plain": "_id                   978\naccumylated_vol       978\navg_trading_vol_10    978\navg_trading_vol_5     978\nbook_value            978\nceiling_price         978\nchange_percent        978\nchange_price          978\ncompany_name          978\ndate                  978\neps                   978\neps4Q                 978\nev_per_ebit           978\nev_per_ebitda         978\nfloor                 978\nfloor_price           978\nicb_group             978\nid                    978\nindex_code            978\nmarket_cap            978\nmatch_price           978\nmatch_price_10        978\nmatch_price_5         978\npb                    978\npb4Q                  978\npe                    978\npe4Q                  978\nprofit_after_tax      978\nroa                   978\nroe                   978\nsymbol                978\nthe_beta              978\nthe_beta4Q            978\nyear                  978\ndtype: int64"
     },
     "execution_count": 138,
     "metadata": {},
     "output_type": "execute_result"
    }
   ],
   "source": [
    "# Filter all stocks with eps > 0 or eps4Q > 0\n",
    "stocksCollection = stocksCollection[(stocksCollection['market_cap'] > 100) & (stocksCollection['pe'] > 0) ]\n",
    "stocksCollection.count()"
   ],
   "metadata": {
    "collapsed": false,
    "ExecuteTime": {
     "end_time": "2023-09-24T14:37:27.629006300Z",
     "start_time": "2023-09-24T14:37:27.624462735Z"
    }
   },
   "id": "1e74c17617aff9b0"
  },
  {
   "cell_type": "code",
   "execution_count": 139,
   "outputs": [],
   "source": [
    "# Create a new column, EY, which is the inverse of PE\n",
    "stocksCollection['EY'] = 1 / stocksCollection['pe']"
   ],
   "metadata": {
    "collapsed": false,
    "ExecuteTime": {
     "end_time": "2023-09-24T14:37:27.640379865Z",
     "start_time": "2023-09-24T14:37:27.629497701Z"
    }
   },
   "id": "b36de76c7bd2e99b"
  },
  {
   "cell_type": "code",
   "execution_count": 140,
   "outputs": [],
   "source": [
    "# Create two columns: EYRank and ROERank. EYRank contains the ranking of each stock's EY, and ROERank contains the ranking of each stock's ROE\n",
    "stocksCollection['EYRank'] = stocksCollection['EY'].rank(ascending=False)\n",
    "stocksCollection['ROERank'] = stocksCollection['roe'].rank(ascending=False)"
   ],
   "metadata": {
    "collapsed": false,
    "ExecuteTime": {
     "end_time": "2023-09-24T14:37:27.646260043Z",
     "start_time": "2023-09-24T14:37:27.631457563Z"
    }
   },
   "id": "357ffdb4e163acdf"
  },
  {
   "cell_type": "code",
   "execution_count": 141,
   "outputs": [
    {
     "data": {
      "text/plain": "                                       _id  accumylated_vol  \\\n66    {'$oid': '651034a433bdb847a5cec711'}                0   \n80    {'$oid': '651034a433bdb847a5cec72d'}                0   \n93    {'$oid': '651034a433bdb847a5cec747'}                0   \n125   {'$oid': '651034a433bdb847a5cec787'}           427150   \n152   {'$oid': '651034a433bdb847a5cec7bd'}            68050   \n...                                    ...              ...   \n1726  {'$oid': '651034a533bdb847a5ced409'}               10   \n1727  {'$oid': '651034a533bdb847a5ced40b'}               40   \n1729  {'$oid': '651034a533bdb847a5ced40f'}             1820   \n1730  {'$oid': '651034a533bdb847a5ced411'}                0   \n1732  {'$oid': '651034a533bdb847a5ced415'}                0   \n\n      avg_trading_vol_10  avg_trading_vol_5  book_value  ceiling_price  \\\n66                     0                0.0       11942           1.80   \n80                     0                0.0        9427           2.10   \n93                     0           362160.0       10400           1.95   \n125               800790           553540.0         854           3.30   \n152               125361            76240.0        5050           3.30   \n...                  ...                ...         ...            ...   \n1726                  40              140.0      102378         216.60   \n1727                 290              320.0       62561         206.60   \n1729               18806             8720.0       86685         225.90   \n1730                  80                0.0      121271         256.40   \n1732                  10               60.0       10000         498.50   \n\n      change_percent  change_price  \\\n66              0.00           0.0   \n80              0.00           0.0   \n93              0.00           0.0   \n125           -10.34          -0.3   \n152             3.45           0.1   \n...              ...           ...   \n1726            0.00           0.0   \n1727            0.00           0.0   \n1729           -1.07          -2.2   \n1730            0.00           0.0   \n1732            0.00           0.0   \n\n                                       company_name       date  ...  \\\n66                  Công ty cổ phần Chứng khoán BOS 2023-09-24  ...   \n80                  Công ty Cổ phần Nông dược H.A.I 2023-09-24  ...   \n93                 Công ty Cổ phần Tập đoàn Tiến Bộ 2023-09-24  ...   \n125   Tổng Công ty Cổ phần Xây lắp Dầu khí Việt Nam 2023-09-24  ...   \n152             Công ty cổ phần Đầu tư Nhà đất Việt 2023-09-24  ...   \n...                                             ...        ...  ...   \n1726             Công ty cổ phần Thực phẩm Cholimex 2023-09-24  ...   \n1727              Công ty Cổ phần Vinacafé Biên Hòa 2023-09-24  ...   \n1729               Công ty Cổ phần Mía đường Sơn La 2023-09-24  ...   \n1730  Công ty Cổ phần Bia và Nước giải khát Hạ Long 2023-09-24  ...   \n1732  Công ty TNHH MTV Xây dựng Công trình Tân Cảng 2023-09-24  ...   \n\n      profit_after_tax    roa    roe  symbol the_beta  the_beta4Q  year  \\\n66               33.89   2.94   2.97     ART     0.00    0.000000  2021   \n80               24.36   1.02   1.56     HAI     0.00    0.042734  2022   \n93                2.75  -0.08  -0.16     TTB     1.91    0.918641  2023   \n125              47.01  -1.19 -23.39     PVX    -0.94    1.008250  2023   \n152               0.06 -21.44 -33.63     PVL     0.00    0.000000  2023   \n...                ...    ...    ...     ...      ...         ...   ...   \n1726            221.65  17.11  29.58     CMF    -0.03    0.537388  2022   \n1727            319.11  18.00  22.15     VCF     0.08    0.207063  2023   \n1729            309.01  41.68  56.15     SLS     0.18    0.099415  2023   \n1730            126.34  24.44  38.57     HLB    -0.07    0.000000  2022   \n1732              9.43   3.53  10.48     XDC     3.66    0.000000  2021   \n\n            EY EYRank  ROERank  \n66    0.268817   46.0    729.0  \n80    0.088889  491.0    795.5  \n93    0.012461  896.0    901.0  \n125   0.037908  770.0    974.0  \n152   0.000565  971.0    977.0  \n...        ...    ...      ...  \n1726  0.145349  227.0     53.0  \n1727  0.058275  679.5    130.0  \n1729  0.195312  108.5     10.0  \n1730  0.184843  124.0     22.0  \n1732  0.002418  951.0    418.0  \n\n[978 rows x 37 columns]",
      "text/html": "<div>\n<style scoped>\n    .dataframe tbody tr th:only-of-type {\n        vertical-align: middle;\n    }\n\n    .dataframe tbody tr th {\n        vertical-align: top;\n    }\n\n    .dataframe thead th {\n        text-align: right;\n    }\n</style>\n<table border=\"1\" class=\"dataframe\">\n  <thead>\n    <tr style=\"text-align: right;\">\n      <th></th>\n      <th>_id</th>\n      <th>accumylated_vol</th>\n      <th>avg_trading_vol_10</th>\n      <th>avg_trading_vol_5</th>\n      <th>book_value</th>\n      <th>ceiling_price</th>\n      <th>change_percent</th>\n      <th>change_price</th>\n      <th>company_name</th>\n      <th>date</th>\n      <th>...</th>\n      <th>profit_after_tax</th>\n      <th>roa</th>\n      <th>roe</th>\n      <th>symbol</th>\n      <th>the_beta</th>\n      <th>the_beta4Q</th>\n      <th>year</th>\n      <th>EY</th>\n      <th>EYRank</th>\n      <th>ROERank</th>\n    </tr>\n  </thead>\n  <tbody>\n    <tr>\n      <th>66</th>\n      <td>{'$oid': '651034a433bdb847a5cec711'}</td>\n      <td>0</td>\n      <td>0</td>\n      <td>0.0</td>\n      <td>11942</td>\n      <td>1.80</td>\n      <td>0.00</td>\n      <td>0.0</td>\n      <td>Công ty cổ phần Chứng khoán BOS</td>\n      <td>2023-09-24</td>\n      <td>...</td>\n      <td>33.89</td>\n      <td>2.94</td>\n      <td>2.97</td>\n      <td>ART</td>\n      <td>0.00</td>\n      <td>0.000000</td>\n      <td>2021</td>\n      <td>0.268817</td>\n      <td>46.0</td>\n      <td>729.0</td>\n    </tr>\n    <tr>\n      <th>80</th>\n      <td>{'$oid': '651034a433bdb847a5cec72d'}</td>\n      <td>0</td>\n      <td>0</td>\n      <td>0.0</td>\n      <td>9427</td>\n      <td>2.10</td>\n      <td>0.00</td>\n      <td>0.0</td>\n      <td>Công ty Cổ phần Nông dược H.A.I</td>\n      <td>2023-09-24</td>\n      <td>...</td>\n      <td>24.36</td>\n      <td>1.02</td>\n      <td>1.56</td>\n      <td>HAI</td>\n      <td>0.00</td>\n      <td>0.042734</td>\n      <td>2022</td>\n      <td>0.088889</td>\n      <td>491.0</td>\n      <td>795.5</td>\n    </tr>\n    <tr>\n      <th>93</th>\n      <td>{'$oid': '651034a433bdb847a5cec747'}</td>\n      <td>0</td>\n      <td>0</td>\n      <td>362160.0</td>\n      <td>10400</td>\n      <td>1.95</td>\n      <td>0.00</td>\n      <td>0.0</td>\n      <td>Công ty Cổ phần Tập đoàn Tiến Bộ</td>\n      <td>2023-09-24</td>\n      <td>...</td>\n      <td>2.75</td>\n      <td>-0.08</td>\n      <td>-0.16</td>\n      <td>TTB</td>\n      <td>1.91</td>\n      <td>0.918641</td>\n      <td>2023</td>\n      <td>0.012461</td>\n      <td>896.0</td>\n      <td>901.0</td>\n    </tr>\n    <tr>\n      <th>125</th>\n      <td>{'$oid': '651034a433bdb847a5cec787'}</td>\n      <td>427150</td>\n      <td>800790</td>\n      <td>553540.0</td>\n      <td>854</td>\n      <td>3.30</td>\n      <td>-10.34</td>\n      <td>-0.3</td>\n      <td>Tổng Công ty Cổ phần Xây lắp Dầu khí Việt Nam</td>\n      <td>2023-09-24</td>\n      <td>...</td>\n      <td>47.01</td>\n      <td>-1.19</td>\n      <td>-23.39</td>\n      <td>PVX</td>\n      <td>-0.94</td>\n      <td>1.008250</td>\n      <td>2023</td>\n      <td>0.037908</td>\n      <td>770.0</td>\n      <td>974.0</td>\n    </tr>\n    <tr>\n      <th>152</th>\n      <td>{'$oid': '651034a433bdb847a5cec7bd'}</td>\n      <td>68050</td>\n      <td>125361</td>\n      <td>76240.0</td>\n      <td>5050</td>\n      <td>3.30</td>\n      <td>3.45</td>\n      <td>0.1</td>\n      <td>Công ty cổ phần Đầu tư Nhà đất Việt</td>\n      <td>2023-09-24</td>\n      <td>...</td>\n      <td>0.06</td>\n      <td>-21.44</td>\n      <td>-33.63</td>\n      <td>PVL</td>\n      <td>0.00</td>\n      <td>0.000000</td>\n      <td>2023</td>\n      <td>0.000565</td>\n      <td>971.0</td>\n      <td>977.0</td>\n    </tr>\n    <tr>\n      <th>...</th>\n      <td>...</td>\n      <td>...</td>\n      <td>...</td>\n      <td>...</td>\n      <td>...</td>\n      <td>...</td>\n      <td>...</td>\n      <td>...</td>\n      <td>...</td>\n      <td>...</td>\n      <td>...</td>\n      <td>...</td>\n      <td>...</td>\n      <td>...</td>\n      <td>...</td>\n      <td>...</td>\n      <td>...</td>\n      <td>...</td>\n      <td>...</td>\n      <td>...</td>\n      <td>...</td>\n    </tr>\n    <tr>\n      <th>1726</th>\n      <td>{'$oid': '651034a533bdb847a5ced409'}</td>\n      <td>10</td>\n      <td>40</td>\n      <td>140.0</td>\n      <td>102378</td>\n      <td>216.60</td>\n      <td>0.00</td>\n      <td>0.0</td>\n      <td>Công ty cổ phần Thực phẩm Cholimex</td>\n      <td>2023-09-24</td>\n      <td>...</td>\n      <td>221.65</td>\n      <td>17.11</td>\n      <td>29.58</td>\n      <td>CMF</td>\n      <td>-0.03</td>\n      <td>0.537388</td>\n      <td>2022</td>\n      <td>0.145349</td>\n      <td>227.0</td>\n      <td>53.0</td>\n    </tr>\n    <tr>\n      <th>1727</th>\n      <td>{'$oid': '651034a533bdb847a5ced40b'}</td>\n      <td>40</td>\n      <td>290</td>\n      <td>320.0</td>\n      <td>62561</td>\n      <td>206.60</td>\n      <td>0.00</td>\n      <td>0.0</td>\n      <td>Công ty Cổ phần Vinacafé Biên Hòa</td>\n      <td>2023-09-24</td>\n      <td>...</td>\n      <td>319.11</td>\n      <td>18.00</td>\n      <td>22.15</td>\n      <td>VCF</td>\n      <td>0.08</td>\n      <td>0.207063</td>\n      <td>2023</td>\n      <td>0.058275</td>\n      <td>679.5</td>\n      <td>130.0</td>\n    </tr>\n    <tr>\n      <th>1729</th>\n      <td>{'$oid': '651034a533bdb847a5ced40f'}</td>\n      <td>1820</td>\n      <td>18806</td>\n      <td>8720.0</td>\n      <td>86685</td>\n      <td>225.90</td>\n      <td>-1.07</td>\n      <td>-2.2</td>\n      <td>Công ty Cổ phần Mía đường Sơn La</td>\n      <td>2023-09-24</td>\n      <td>...</td>\n      <td>309.01</td>\n      <td>41.68</td>\n      <td>56.15</td>\n      <td>SLS</td>\n      <td>0.18</td>\n      <td>0.099415</td>\n      <td>2023</td>\n      <td>0.195312</td>\n      <td>108.5</td>\n      <td>10.0</td>\n    </tr>\n    <tr>\n      <th>1730</th>\n      <td>{'$oid': '651034a533bdb847a5ced411'}</td>\n      <td>0</td>\n      <td>80</td>\n      <td>0.0</td>\n      <td>121271</td>\n      <td>256.40</td>\n      <td>0.00</td>\n      <td>0.0</td>\n      <td>Công ty Cổ phần Bia và Nước giải khát Hạ Long</td>\n      <td>2023-09-24</td>\n      <td>...</td>\n      <td>126.34</td>\n      <td>24.44</td>\n      <td>38.57</td>\n      <td>HLB</td>\n      <td>-0.07</td>\n      <td>0.000000</td>\n      <td>2022</td>\n      <td>0.184843</td>\n      <td>124.0</td>\n      <td>22.0</td>\n    </tr>\n    <tr>\n      <th>1732</th>\n      <td>{'$oid': '651034a533bdb847a5ced415'}</td>\n      <td>0</td>\n      <td>10</td>\n      <td>60.0</td>\n      <td>10000</td>\n      <td>498.50</td>\n      <td>0.00</td>\n      <td>0.0</td>\n      <td>Công ty TNHH MTV Xây dựng Công trình Tân Cảng</td>\n      <td>2023-09-24</td>\n      <td>...</td>\n      <td>9.43</td>\n      <td>3.53</td>\n      <td>10.48</td>\n      <td>XDC</td>\n      <td>3.66</td>\n      <td>0.000000</td>\n      <td>2021</td>\n      <td>0.002418</td>\n      <td>951.0</td>\n      <td>418.0</td>\n    </tr>\n  </tbody>\n</table>\n<p>978 rows × 37 columns</p>\n</div>"
     },
     "execution_count": 141,
     "metadata": {},
     "output_type": "execute_result"
    }
   ],
   "source": [
    "stocksCollection"
   ],
   "metadata": {
    "collapsed": false,
    "ExecuteTime": {
     "end_time": "2023-09-24T14:37:27.730836172Z",
     "start_time": "2023-09-24T14:37:27.635049748Z"
    }
   },
   "id": "d59a1109736a3071"
  },
  {
   "cell_type": "code",
   "execution_count": 142,
   "outputs": [],
   "source": [
    "# Get the top 50 stocks with the highest EYRank and ROERank\n",
    "stocksCollection = stocksCollection[(stocksCollection['EYRank'] <= 50) & (stocksCollection['ROERank'] <= 50)]\n",
    "# Sort the stocks by EYRank and ROERank\n",
    "stocksCollection = stocksCollection.sort_values(by=['EYRank', 'ROERank'])"
   ],
   "metadata": {
    "collapsed": false,
    "ExecuteTime": {
     "end_time": "2023-09-24T14:37:27.731134103Z",
     "start_time": "2023-09-24T14:37:27.693725754Z"
    }
   },
   "id": "f49a05871590629d"
  },
  {
   "cell_type": "code",
   "execution_count": 143,
   "outputs": [
    {
     "data": {
      "text/plain": "     symbol                                       company_name        EY  \\\n997     ABC                   Công ty cổ phần Truyền thông VMG  2.127660   \n966     TBH                      Công ty Cổ phần Tổng Bách Hóa  0.632911   \n1707    PAT                      CTCP Phốt Pho Apatit Việt Nam  0.490196   \n1541    TMB  Công ty Cổ phần Kinh doanh Than miền Bắc - Vin...  0.480769   \n805     MDC        Công ty Cổ phần Than Mông Dương - Vinacomin  0.400000   \n1103    CST                 Công ty cổ phần Than Cao Sơn - TKV  0.400000   \n1222    CNT      Công ty Cổ phần Xây dựng và Kinh doanh vật tư  0.354610   \n1604    ICN      Công ty Cổ phần Đầu Tư Xây Dựng Dầu Khí IDICO  0.347222   \n760     ANT         Công ty Cổ phần Rau quả thực phẩm An Giang  0.338983   \n759     VFR                Công ty Cổ phần Vận tải và Thuê tàu  0.336700   \n1402    BDG                 CÔNG TY CỔ PHẦN MAY MẶC BÌNH DƯƠNG  0.320513   \n1635    HVT                  Công ty Cổ phần Hóa chất Việt Trì  0.303951   \n1400    HDM                        Công ty Cổ phần Dệt May Huế  0.292398   \n1544    FT1                  Công ty cổ phần Phụ tùng máy số 1  0.278552   \n1714    DGC        Công ty cổ phần Tập đoàn Hóa chất Đức Giang  0.277778   \n974     TVD         Công ty Cổ phần than Vàng Danh - Vinacomin  0.265252   \n\n         roe  EYRank  ROERank  \n997   245.91     1.0      1.0  \n966   152.64     4.0      3.0  \n1707   77.95     6.0      7.0  \n1541   61.28     7.0      9.0  \n805    42.77    12.5     17.0  \n1103   35.25    12.5     30.0  \n1222   43.80    15.0     15.0  \n1604  146.94    19.0      4.0  \n760    31.05    21.0     44.0  \n759    32.89    22.0     39.0  \n1402   39.07    24.0     20.0  \n1635   35.40    31.0     28.0  \n1400   38.91    34.0     21.0  \n1544   51.70    40.0     11.0  \n1714   37.80    41.5     24.0  \n974    35.03    47.0     32.0  ",
      "text/html": "<div>\n<style scoped>\n    .dataframe tbody tr th:only-of-type {\n        vertical-align: middle;\n    }\n\n    .dataframe tbody tr th {\n        vertical-align: top;\n    }\n\n    .dataframe thead th {\n        text-align: right;\n    }\n</style>\n<table border=\"1\" class=\"dataframe\">\n  <thead>\n    <tr style=\"text-align: right;\">\n      <th></th>\n      <th>symbol</th>\n      <th>company_name</th>\n      <th>EY</th>\n      <th>roe</th>\n      <th>EYRank</th>\n      <th>ROERank</th>\n    </tr>\n  </thead>\n  <tbody>\n    <tr>\n      <th>997</th>\n      <td>ABC</td>\n      <td>Công ty cổ phần Truyền thông VMG</td>\n      <td>2.127660</td>\n      <td>245.91</td>\n      <td>1.0</td>\n      <td>1.0</td>\n    </tr>\n    <tr>\n      <th>966</th>\n      <td>TBH</td>\n      <td>Công ty Cổ phần Tổng Bách Hóa</td>\n      <td>0.632911</td>\n      <td>152.64</td>\n      <td>4.0</td>\n      <td>3.0</td>\n    </tr>\n    <tr>\n      <th>1707</th>\n      <td>PAT</td>\n      <td>CTCP Phốt Pho Apatit Việt Nam</td>\n      <td>0.490196</td>\n      <td>77.95</td>\n      <td>6.0</td>\n      <td>7.0</td>\n    </tr>\n    <tr>\n      <th>1541</th>\n      <td>TMB</td>\n      <td>Công ty Cổ phần Kinh doanh Than miền Bắc - Vin...</td>\n      <td>0.480769</td>\n      <td>61.28</td>\n      <td>7.0</td>\n      <td>9.0</td>\n    </tr>\n    <tr>\n      <th>805</th>\n      <td>MDC</td>\n      <td>Công ty Cổ phần Than Mông Dương - Vinacomin</td>\n      <td>0.400000</td>\n      <td>42.77</td>\n      <td>12.5</td>\n      <td>17.0</td>\n    </tr>\n    <tr>\n      <th>1103</th>\n      <td>CST</td>\n      <td>Công ty cổ phần Than Cao Sơn - TKV</td>\n      <td>0.400000</td>\n      <td>35.25</td>\n      <td>12.5</td>\n      <td>30.0</td>\n    </tr>\n    <tr>\n      <th>1222</th>\n      <td>CNT</td>\n      <td>Công ty Cổ phần Xây dựng và Kinh doanh vật tư</td>\n      <td>0.354610</td>\n      <td>43.80</td>\n      <td>15.0</td>\n      <td>15.0</td>\n    </tr>\n    <tr>\n      <th>1604</th>\n      <td>ICN</td>\n      <td>Công ty Cổ phần Đầu Tư Xây Dựng Dầu Khí IDICO</td>\n      <td>0.347222</td>\n      <td>146.94</td>\n      <td>19.0</td>\n      <td>4.0</td>\n    </tr>\n    <tr>\n      <th>760</th>\n      <td>ANT</td>\n      <td>Công ty Cổ phần Rau quả thực phẩm An Giang</td>\n      <td>0.338983</td>\n      <td>31.05</td>\n      <td>21.0</td>\n      <td>44.0</td>\n    </tr>\n    <tr>\n      <th>759</th>\n      <td>VFR</td>\n      <td>Công ty Cổ phần Vận tải và Thuê tàu</td>\n      <td>0.336700</td>\n      <td>32.89</td>\n      <td>22.0</td>\n      <td>39.0</td>\n    </tr>\n    <tr>\n      <th>1402</th>\n      <td>BDG</td>\n      <td>CÔNG TY CỔ PHẦN MAY MẶC BÌNH DƯƠNG</td>\n      <td>0.320513</td>\n      <td>39.07</td>\n      <td>24.0</td>\n      <td>20.0</td>\n    </tr>\n    <tr>\n      <th>1635</th>\n      <td>HVT</td>\n      <td>Công ty Cổ phần Hóa chất Việt Trì</td>\n      <td>0.303951</td>\n      <td>35.40</td>\n      <td>31.0</td>\n      <td>28.0</td>\n    </tr>\n    <tr>\n      <th>1400</th>\n      <td>HDM</td>\n      <td>Công ty Cổ phần Dệt May Huế</td>\n      <td>0.292398</td>\n      <td>38.91</td>\n      <td>34.0</td>\n      <td>21.0</td>\n    </tr>\n    <tr>\n      <th>1544</th>\n      <td>FT1</td>\n      <td>Công ty cổ phần Phụ tùng máy số 1</td>\n      <td>0.278552</td>\n      <td>51.70</td>\n      <td>40.0</td>\n      <td>11.0</td>\n    </tr>\n    <tr>\n      <th>1714</th>\n      <td>DGC</td>\n      <td>Công ty cổ phần Tập đoàn Hóa chất Đức Giang</td>\n      <td>0.277778</td>\n      <td>37.80</td>\n      <td>41.5</td>\n      <td>24.0</td>\n    </tr>\n    <tr>\n      <th>974</th>\n      <td>TVD</td>\n      <td>Công ty Cổ phần than Vàng Danh - Vinacomin</td>\n      <td>0.265252</td>\n      <td>35.03</td>\n      <td>47.0</td>\n      <td>32.0</td>\n    </tr>\n  </tbody>\n</table>\n</div>"
     },
     "execution_count": 143,
     "metadata": {},
     "output_type": "execute_result"
    }
   ],
   "source": [
    "# Get the symbol, company_name, EY, ROE, EYRank, and ROERank of the top 50 stocks\n",
    "stocksCollection = stocksCollection[['symbol', 'company_name', 'EY', 'roe', 'EYRank', 'ROERank']]\n",
    "stocksCollection\n"
   ],
   "metadata": {
    "collapsed": false,
    "ExecuteTime": {
     "end_time": "2023-09-24T14:37:27.731769774Z",
     "start_time": "2023-09-24T14:37:27.693814234Z"
    }
   },
   "id": "10776b6281fe3aec"
  },
  {
   "cell_type": "code",
   "execution_count": 143,
   "outputs": [],
   "source": [],
   "metadata": {
    "collapsed": false,
    "ExecuteTime": {
     "end_time": "2023-09-24T14:37:27.731929964Z",
     "start_time": "2023-09-24T14:37:27.693888994Z"
    }
   },
   "id": "525a8828644f4d7e"
  }
 ],
 "metadata": {
  "kernelspec": {
   "display_name": "Python 3",
   "language": "python",
   "name": "python3"
  },
  "language_info": {
   "codemirror_mode": {
    "name": "ipython",
    "version": 2
   },
   "file_extension": ".py",
   "mimetype": "text/x-python",
   "name": "python",
   "nbconvert_exporter": "python",
   "pygments_lexer": "ipython2",
   "version": "2.7.6"
  }
 },
 "nbformat": 4,
 "nbformat_minor": 5
}
