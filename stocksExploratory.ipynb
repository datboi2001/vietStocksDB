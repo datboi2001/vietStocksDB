{
 "cells": [
  {
   "cell_type": "code",
   "execution_count": 14,
   "id": "initial_id",
   "metadata": {
    "ExecuteTime": {
     "end_time": "2023-11-06T04:18:54.215711294Z",
     "start_time": "2023-11-06T04:18:53.732183986Z"
    },
    "collapsed": true
   },
   "outputs": [],
   "source": [
    "import pandas as pd\n",
    "from src.DBInterface import DBInterface\n",
    "from bson import json_util\n",
    "from datetime import datetime\n"
   ]
  },
  {
   "cell_type": "code",
   "execution_count": 15,
   "id": "bca9293cff489f27",
   "metadata": {
    "ExecuteTime": {
     "end_time": "2023-11-06T04:18:54.899859271Z",
     "start_time": "2023-11-06T04:18:54.872718632Z"
    },
    "collapsed": false
   },
   "outputs": [],
   "source": [
    "db_interface = DBInterface('mongodb://localhost:27017/?readPreference=primary', 'stocksDB', 'vietStocks')\n"
   ]
  },
  {
   "cell_type": "code",
   "execution_count": 16,
   "id": "13a86af7c25c66df",
   "metadata": {
    "ExecuteTime": {
     "end_time": "2023-11-06T04:19:01.683377183Z",
     "start_time": "2023-11-06T04:19:01.676181226Z"
    },
    "collapsed": false
   },
   "outputs": [],
   "source": [
    "def to_csv(df: pd.DataFrame) -> None:\n",
    "    \"\"\"\n",
    "    Write a dataframe to a csv file\n",
    "    :param df: A dataframe\n",
    "    :return: None\n",
    "    \"\"\"\n",
    "    today = datetime.today().strftime('%Y-%m-%d')\n",
    "    df.to_csv(f'data/top50_EY_ROE_rankings_{today}.csv', index=False)\n"
   ]
  },
  {
   "cell_type": "markdown",
   "id": "dde40ca080a7001f",
   "metadata": {
    "collapsed": false
   },
   "source": [
    "# MongoDB way"
   ]
  },
  {
   "cell_type": "code",
   "execution_count": 17,
   "id": "c55bc614455d5fd7",
   "metadata": {
    "ExecuteTime": {
     "end_time": "2023-11-06T04:19:10.972015936Z",
     "start_time": "2023-11-06T04:19:10.944997498Z"
    },
    "collapsed": false
   },
   "outputs": [],
   "source": [
    "result = db_interface.collection.aggregate(\n",
    "   [\n",
    "    {\n",
    "        '$match': {\n",
    "            '$and': [\n",
    "                {\n",
    "                    'market_cap': {\n",
    "                        '$gt': 100\n",
    "                    }\n",
    "                }, {\n",
    "                    'pe': {\n",
    "                        '$gt': 0\n",
    "                    }\n",
    "                }, {\n",
    "                    'pb': {\n",
    "                        '$lt': 1, \n",
    "                        '$gt': 0\n",
    "                    }\n",
    "                }, {\n",
    "                    '$or': [\n",
    "                        {\n",
    "                            'roe': {\n",
    "                                '$gte': 15\n",
    "                            }\n",
    "                        }, {\n",
    "                            'roa': {\n",
    "                                '$gte': 15\n",
    "                            }\n",
    "                        }\n",
    "                    ]\n",
    "                }\n",
    "            ]\n",
    "        }\n",
    "    }, {\n",
    "        '$addFields': {\n",
    "            'EY': {\n",
    "                '$divide': [\n",
    "                    1, '$pe'\n",
    "                ]\n",
    "            }\n",
    "        }\n",
    "    }, {\n",
    "        '$setWindowFields': {\n",
    "            'partitionBy': None, \n",
    "            'sortBy': {\n",
    "                'EY': -1\n",
    "            }, \n",
    "            'output': {\n",
    "                'EYRank': {\n",
    "                    '$denseRank': {}\n",
    "                }\n",
    "            }\n",
    "        }\n",
    "    }, {\n",
    "        '$setWindowFields': {\n",
    "            'partitionBy': None, \n",
    "            'sortBy': {\n",
    "                'roe': -1\n",
    "            }, \n",
    "            'output': {\n",
    "                'ROERank': {\n",
    "                    '$denseRank': {}\n",
    "                }\n",
    "            }\n",
    "        }\n",
    "    }, {\n",
    "        '$addFields': {\n",
    "            'finalRank': {\n",
    "                '$add': [\n",
    "                    '$EYRank', '$ROERank'\n",
    "                ]\n",
    "            }\n",
    "        }\n",
    "    }, {\n",
    "        '$sort': {\n",
    "            'finalRank': 1\n",
    "        }\n",
    "    }, {\n",
    "        '$project': {\n",
    "            '_id': 0, \n",
    "            'symbol': 1, \n",
    "            'company_name': 1, \n",
    "            'EY': 1, \n",
    "            'roe': 1, \n",
    "            'floor': 1, \n",
    "            'EYRank': 1, \n",
    "            'ROERank': 1, \n",
    "            'finalRank': 1\n",
    "        }\n",
    "    }\n",
    "] \n",
    ")\n",
    "\n",
    "# Write to a csv file\n",
    "df = pd.DataFrame(result)\n",
    "to_csv(df)\n",
    "\n"
   ]
  }
 ],
 "metadata": {
  "kernelspec": {
   "display_name": "Python 3",
   "language": "python",
   "name": "python3"
  },
  "language_info": {
   "codemirror_mode": {
    "name": "ipython",
    "version": 3
   },
   "file_extension": ".py",
   "mimetype": "text/x-python",
   "name": "python",
   "nbconvert_exporter": "python",
   "pygments_lexer": "ipython3",
   "version": "3.10.12"
  }
 },
 "nbformat": 4,
 "nbformat_minor": 5
}
