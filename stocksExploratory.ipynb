{
 "cells": [
  {
   "cell_type": "code",
   "execution_count": 185,
   "id": "initial_id",
   "metadata": {
    "collapsed": true,
    "ExecuteTime": {
     "end_time": "2023-09-24T15:06:18.813851510Z",
     "start_time": "2023-09-24T15:06:18.769927920Z"
    }
   },
   "outputs": [],
   "source": [
    "import pandas as pd"
   ]
  },
  {
   "cell_type": "code",
   "execution_count": 186,
   "outputs": [],
   "source": [
    "stocksCollection = pd.read_json('data/vietStocks.json')"
   ],
   "metadata": {
    "collapsed": false,
    "ExecuteTime": {
     "end_time": "2023-09-24T15:06:18.823934323Z",
     "start_time": "2023-09-24T15:06:18.813731170Z"
    }
   },
   "id": "bca9293cff489f27"
  },
  {
   "cell_type": "code",
   "execution_count": 187,
   "outputs": [
    {
     "data": {
      "text/plain": "_id                   978\naccumylated_vol       978\navg_trading_vol_10    978\navg_trading_vol_5     978\nbook_value            978\nceiling_price         978\nchange_percent        978\nchange_price          978\ncompany_name          978\ndate                  978\neps                   978\neps4Q                 978\nev_per_ebit           978\nev_per_ebitda         978\nfloor                 978\nfloor_price           978\nicb_group             978\nid                    978\nindex_code            978\nmarket_cap            978\nmatch_price           978\nmatch_price_10        978\nmatch_price_5         978\npb                    978\npb4Q                  978\npe                    978\npe4Q                  978\nprofit_after_tax      978\nroa                   978\nroe                   978\nsymbol                978\nthe_beta              978\nthe_beta4Q            978\nyear                  978\ndtype: int64"
     },
     "execution_count": 187,
     "metadata": {},
     "output_type": "execute_result"
    }
   ],
   "source": [
    "# Filter all stocks with eps > 0 or eps4Q > 0\n",
    "stocksCollection = stocksCollection[(stocksCollection['market_cap'] > 100) & (stocksCollection['pe'] > 0) ]\n",
    "stocksCollection.count()"
   ],
   "metadata": {
    "collapsed": false,
    "ExecuteTime": {
     "end_time": "2023-09-24T15:06:18.860821593Z",
     "start_time": "2023-09-24T15:06:18.821930190Z"
    }
   },
   "id": "1e74c17617aff9b0"
  },
  {
   "cell_type": "code",
   "execution_count": 188,
   "outputs": [],
   "source": [
    "# Create a new column, EY, which is the inverse of PE\n",
    "stocksCollection['EY'] = 1 / stocksCollection['pe']"
   ],
   "metadata": {
    "collapsed": false,
    "ExecuteTime": {
     "end_time": "2023-09-24T15:06:18.860979903Z",
     "start_time": "2023-09-24T15:06:18.860501032Z"
    }
   },
   "id": "b36de76c7bd2e99b"
  },
  {
   "cell_type": "code",
   "execution_count": 189,
   "outputs": [],
   "source": [
    "# Create two columns: EYRank and ROERank. EYRank contains the ranking of each stock's EY, and ROERank contains the ranking of each stock's ROE\n",
    "stocksCollection['EYRank'] = stocksCollection['EY'].rank(ascending=False)\n",
    "stocksCollection['ROERank'] = stocksCollection['roe'].rank(ascending=False)\n",
    "stocksCollection['finalRank'] = stocksCollection['EYRank'] + stocksCollection['ROERank']"
   ],
   "metadata": {
    "collapsed": false,
    "ExecuteTime": {
     "end_time": "2023-09-24T15:06:18.861272113Z",
     "start_time": "2023-09-24T15:06:18.860603662Z"
    }
   },
   "id": "357ffdb4e163acdf"
  },
  {
   "cell_type": "code",
   "execution_count": 190,
   "outputs": [
    {
     "data": {
      "text/plain": "                                       _id  accumylated_vol  \\\n66    {'$oid': '651034a433bdb847a5cec711'}                0   \n80    {'$oid': '651034a433bdb847a5cec72d'}                0   \n93    {'$oid': '651034a433bdb847a5cec747'}                0   \n125   {'$oid': '651034a433bdb847a5cec787'}           427150   \n152   {'$oid': '651034a433bdb847a5cec7bd'}            68050   \n...                                    ...              ...   \n1726  {'$oid': '651034a533bdb847a5ced409'}               10   \n1727  {'$oid': '651034a533bdb847a5ced40b'}               40   \n1729  {'$oid': '651034a533bdb847a5ced40f'}             1820   \n1730  {'$oid': '651034a533bdb847a5ced411'}                0   \n1732  {'$oid': '651034a533bdb847a5ced415'}                0   \n\n      avg_trading_vol_10  avg_trading_vol_5  book_value  ceiling_price  \\\n66                     0                0.0       11942           1.80   \n80                     0                0.0        9427           2.10   \n93                     0           362160.0       10400           1.95   \n125               800790           553540.0         854           3.30   \n152               125361            76240.0        5050           3.30   \n...                  ...                ...         ...            ...   \n1726                  40              140.0      102378         216.60   \n1727                 290              320.0       62561         206.60   \n1729               18806             8720.0       86685         225.90   \n1730                  80                0.0      121271         256.40   \n1732                  10               60.0       10000         498.50   \n\n      change_percent  change_price  \\\n66              0.00           0.0   \n80              0.00           0.0   \n93              0.00           0.0   \n125           -10.34          -0.3   \n152             3.45           0.1   \n...              ...           ...   \n1726            0.00           0.0   \n1727            0.00           0.0   \n1729           -1.07          -2.2   \n1730            0.00           0.0   \n1732            0.00           0.0   \n\n                                       company_name       date  ...    roa  \\\n66                  Công ty cổ phần Chứng khoán BOS 2023-09-24  ...   2.94   \n80                  Công ty Cổ phần Nông dược H.A.I 2023-09-24  ...   1.02   \n93                 Công ty Cổ phần Tập đoàn Tiến Bộ 2023-09-24  ...  -0.08   \n125   Tổng Công ty Cổ phần Xây lắp Dầu khí Việt Nam 2023-09-24  ...  -1.19   \n152             Công ty cổ phần Đầu tư Nhà đất Việt 2023-09-24  ... -21.44   \n...                                             ...        ...  ...    ...   \n1726             Công ty cổ phần Thực phẩm Cholimex 2023-09-24  ...  17.11   \n1727              Công ty Cổ phần Vinacafé Biên Hòa 2023-09-24  ...  18.00   \n1729               Công ty Cổ phần Mía đường Sơn La 2023-09-24  ...  41.68   \n1730  Công ty Cổ phần Bia và Nước giải khát Hạ Long 2023-09-24  ...  24.44   \n1732  Công ty TNHH MTV Xây dựng Công trình Tân Cảng 2023-09-24  ...   3.53   \n\n        roe  symbol  the_beta the_beta4Q  year        EY  EYRank ROERank  \\\n66     2.97     ART      0.00   0.000000  2021  0.268817    46.0   729.0   \n80     1.56     HAI      0.00   0.042734  2022  0.088889   491.0   795.5   \n93    -0.16     TTB      1.91   0.918641  2023  0.012461   896.0   901.0   \n125  -23.39     PVX     -0.94   1.008250  2023  0.037908   770.0   974.0   \n152  -33.63     PVL      0.00   0.000000  2023  0.000565   971.0   977.0   \n...     ...     ...       ...        ...   ...       ...     ...     ...   \n1726  29.58     CMF     -0.03   0.537388  2022  0.145349   227.0    53.0   \n1727  22.15     VCF      0.08   0.207063  2023  0.058275   679.5   130.0   \n1729  56.15     SLS      0.18   0.099415  2023  0.195312   108.5    10.0   \n1730  38.57     HLB     -0.07   0.000000  2022  0.184843   124.0    22.0   \n1732  10.48     XDC      3.66   0.000000  2021  0.002418   951.0   418.0   \n\n      finalRank  \n66        775.0  \n80       1286.5  \n93       1797.0  \n125      1744.0  \n152      1948.0  \n...         ...  \n1726      280.0  \n1727      809.5  \n1729      118.5  \n1730      146.0  \n1732     1369.0  \n\n[978 rows x 38 columns]",
      "text/html": "<div>\n<style scoped>\n    .dataframe tbody tr th:only-of-type {\n        vertical-align: middle;\n    }\n\n    .dataframe tbody tr th {\n        vertical-align: top;\n    }\n\n    .dataframe thead th {\n        text-align: right;\n    }\n</style>\n<table border=\"1\" class=\"dataframe\">\n  <thead>\n    <tr style=\"text-align: right;\">\n      <th></th>\n      <th>_id</th>\n      <th>accumylated_vol</th>\n      <th>avg_trading_vol_10</th>\n      <th>avg_trading_vol_5</th>\n      <th>book_value</th>\n      <th>ceiling_price</th>\n      <th>change_percent</th>\n      <th>change_price</th>\n      <th>company_name</th>\n      <th>date</th>\n      <th>...</th>\n      <th>roa</th>\n      <th>roe</th>\n      <th>symbol</th>\n      <th>the_beta</th>\n      <th>the_beta4Q</th>\n      <th>year</th>\n      <th>EY</th>\n      <th>EYRank</th>\n      <th>ROERank</th>\n      <th>finalRank</th>\n    </tr>\n  </thead>\n  <tbody>\n    <tr>\n      <th>66</th>\n      <td>{'$oid': '651034a433bdb847a5cec711'}</td>\n      <td>0</td>\n      <td>0</td>\n      <td>0.0</td>\n      <td>11942</td>\n      <td>1.80</td>\n      <td>0.00</td>\n      <td>0.0</td>\n      <td>Công ty cổ phần Chứng khoán BOS</td>\n      <td>2023-09-24</td>\n      <td>...</td>\n      <td>2.94</td>\n      <td>2.97</td>\n      <td>ART</td>\n      <td>0.00</td>\n      <td>0.000000</td>\n      <td>2021</td>\n      <td>0.268817</td>\n      <td>46.0</td>\n      <td>729.0</td>\n      <td>775.0</td>\n    </tr>\n    <tr>\n      <th>80</th>\n      <td>{'$oid': '651034a433bdb847a5cec72d'}</td>\n      <td>0</td>\n      <td>0</td>\n      <td>0.0</td>\n      <td>9427</td>\n      <td>2.10</td>\n      <td>0.00</td>\n      <td>0.0</td>\n      <td>Công ty Cổ phần Nông dược H.A.I</td>\n      <td>2023-09-24</td>\n      <td>...</td>\n      <td>1.02</td>\n      <td>1.56</td>\n      <td>HAI</td>\n      <td>0.00</td>\n      <td>0.042734</td>\n      <td>2022</td>\n      <td>0.088889</td>\n      <td>491.0</td>\n      <td>795.5</td>\n      <td>1286.5</td>\n    </tr>\n    <tr>\n      <th>93</th>\n      <td>{'$oid': '651034a433bdb847a5cec747'}</td>\n      <td>0</td>\n      <td>0</td>\n      <td>362160.0</td>\n      <td>10400</td>\n      <td>1.95</td>\n      <td>0.00</td>\n      <td>0.0</td>\n      <td>Công ty Cổ phần Tập đoàn Tiến Bộ</td>\n      <td>2023-09-24</td>\n      <td>...</td>\n      <td>-0.08</td>\n      <td>-0.16</td>\n      <td>TTB</td>\n      <td>1.91</td>\n      <td>0.918641</td>\n      <td>2023</td>\n      <td>0.012461</td>\n      <td>896.0</td>\n      <td>901.0</td>\n      <td>1797.0</td>\n    </tr>\n    <tr>\n      <th>125</th>\n      <td>{'$oid': '651034a433bdb847a5cec787'}</td>\n      <td>427150</td>\n      <td>800790</td>\n      <td>553540.0</td>\n      <td>854</td>\n      <td>3.30</td>\n      <td>-10.34</td>\n      <td>-0.3</td>\n      <td>Tổng Công ty Cổ phần Xây lắp Dầu khí Việt Nam</td>\n      <td>2023-09-24</td>\n      <td>...</td>\n      <td>-1.19</td>\n      <td>-23.39</td>\n      <td>PVX</td>\n      <td>-0.94</td>\n      <td>1.008250</td>\n      <td>2023</td>\n      <td>0.037908</td>\n      <td>770.0</td>\n      <td>974.0</td>\n      <td>1744.0</td>\n    </tr>\n    <tr>\n      <th>152</th>\n      <td>{'$oid': '651034a433bdb847a5cec7bd'}</td>\n      <td>68050</td>\n      <td>125361</td>\n      <td>76240.0</td>\n      <td>5050</td>\n      <td>3.30</td>\n      <td>3.45</td>\n      <td>0.1</td>\n      <td>Công ty cổ phần Đầu tư Nhà đất Việt</td>\n      <td>2023-09-24</td>\n      <td>...</td>\n      <td>-21.44</td>\n      <td>-33.63</td>\n      <td>PVL</td>\n      <td>0.00</td>\n      <td>0.000000</td>\n      <td>2023</td>\n      <td>0.000565</td>\n      <td>971.0</td>\n      <td>977.0</td>\n      <td>1948.0</td>\n    </tr>\n    <tr>\n      <th>...</th>\n      <td>...</td>\n      <td>...</td>\n      <td>...</td>\n      <td>...</td>\n      <td>...</td>\n      <td>...</td>\n      <td>...</td>\n      <td>...</td>\n      <td>...</td>\n      <td>...</td>\n      <td>...</td>\n      <td>...</td>\n      <td>...</td>\n      <td>...</td>\n      <td>...</td>\n      <td>...</td>\n      <td>...</td>\n      <td>...</td>\n      <td>...</td>\n      <td>...</td>\n      <td>...</td>\n    </tr>\n    <tr>\n      <th>1726</th>\n      <td>{'$oid': '651034a533bdb847a5ced409'}</td>\n      <td>10</td>\n      <td>40</td>\n      <td>140.0</td>\n      <td>102378</td>\n      <td>216.60</td>\n      <td>0.00</td>\n      <td>0.0</td>\n      <td>Công ty cổ phần Thực phẩm Cholimex</td>\n      <td>2023-09-24</td>\n      <td>...</td>\n      <td>17.11</td>\n      <td>29.58</td>\n      <td>CMF</td>\n      <td>-0.03</td>\n      <td>0.537388</td>\n      <td>2022</td>\n      <td>0.145349</td>\n      <td>227.0</td>\n      <td>53.0</td>\n      <td>280.0</td>\n    </tr>\n    <tr>\n      <th>1727</th>\n      <td>{'$oid': '651034a533bdb847a5ced40b'}</td>\n      <td>40</td>\n      <td>290</td>\n      <td>320.0</td>\n      <td>62561</td>\n      <td>206.60</td>\n      <td>0.00</td>\n      <td>0.0</td>\n      <td>Công ty Cổ phần Vinacafé Biên Hòa</td>\n      <td>2023-09-24</td>\n      <td>...</td>\n      <td>18.00</td>\n      <td>22.15</td>\n      <td>VCF</td>\n      <td>0.08</td>\n      <td>0.207063</td>\n      <td>2023</td>\n      <td>0.058275</td>\n      <td>679.5</td>\n      <td>130.0</td>\n      <td>809.5</td>\n    </tr>\n    <tr>\n      <th>1729</th>\n      <td>{'$oid': '651034a533bdb847a5ced40f'}</td>\n      <td>1820</td>\n      <td>18806</td>\n      <td>8720.0</td>\n      <td>86685</td>\n      <td>225.90</td>\n      <td>-1.07</td>\n      <td>-2.2</td>\n      <td>Công ty Cổ phần Mía đường Sơn La</td>\n      <td>2023-09-24</td>\n      <td>...</td>\n      <td>41.68</td>\n      <td>56.15</td>\n      <td>SLS</td>\n      <td>0.18</td>\n      <td>0.099415</td>\n      <td>2023</td>\n      <td>0.195312</td>\n      <td>108.5</td>\n      <td>10.0</td>\n      <td>118.5</td>\n    </tr>\n    <tr>\n      <th>1730</th>\n      <td>{'$oid': '651034a533bdb847a5ced411'}</td>\n      <td>0</td>\n      <td>80</td>\n      <td>0.0</td>\n      <td>121271</td>\n      <td>256.40</td>\n      <td>0.00</td>\n      <td>0.0</td>\n      <td>Công ty Cổ phần Bia và Nước giải khát Hạ Long</td>\n      <td>2023-09-24</td>\n      <td>...</td>\n      <td>24.44</td>\n      <td>38.57</td>\n      <td>HLB</td>\n      <td>-0.07</td>\n      <td>0.000000</td>\n      <td>2022</td>\n      <td>0.184843</td>\n      <td>124.0</td>\n      <td>22.0</td>\n      <td>146.0</td>\n    </tr>\n    <tr>\n      <th>1732</th>\n      <td>{'$oid': '651034a533bdb847a5ced415'}</td>\n      <td>0</td>\n      <td>10</td>\n      <td>60.0</td>\n      <td>10000</td>\n      <td>498.50</td>\n      <td>0.00</td>\n      <td>0.0</td>\n      <td>Công ty TNHH MTV Xây dựng Công trình Tân Cảng</td>\n      <td>2023-09-24</td>\n      <td>...</td>\n      <td>3.53</td>\n      <td>10.48</td>\n      <td>XDC</td>\n      <td>3.66</td>\n      <td>0.000000</td>\n      <td>2021</td>\n      <td>0.002418</td>\n      <td>951.0</td>\n      <td>418.0</td>\n      <td>1369.0</td>\n    </tr>\n  </tbody>\n</table>\n<p>978 rows × 38 columns</p>\n</div>"
     },
     "execution_count": 190,
     "metadata": {},
     "output_type": "execute_result"
    }
   ],
   "source": [
    "stocksCollection"
   ],
   "metadata": {
    "collapsed": false,
    "ExecuteTime": {
     "end_time": "2023-09-24T15:06:18.861823824Z",
     "start_time": "2023-09-24T15:06:18.860650942Z"
    }
   },
   "id": "d59a1109736a3071"
  },
  {
   "cell_type": "code",
   "execution_count": 191,
   "outputs": [],
   "source": [
    "# Get the top 50 stocks with the highest finalRank\n",
    "stocksCollection = stocksCollection.sort_values(by=['finalRank'], ascending=True).head(50)"
   ],
   "metadata": {
    "collapsed": false,
    "ExecuteTime": {
     "end_time": "2023-09-24T15:06:18.861907504Z",
     "start_time": "2023-09-24T15:06:18.860794382Z"
    }
   },
   "id": "f49a05871590629d"
  },
  {
   "cell_type": "code",
   "execution_count": 192,
   "outputs": [
    {
     "data": {
      "text/plain": "     symbol                                       company_name        EY  \\\n997     ABC                   Công ty cổ phần Truyền thông VMG  2.127660   \n966     TBH                      Công ty Cổ phần Tổng Bách Hóa  0.632911   \n1707    PAT                      CTCP Phốt Pho Apatit Việt Nam  0.490196   \n1541    TMB  Công ty Cổ phần Kinh doanh Than miền Bắc - Vin...  0.480769   \n1604    ICN      Công ty Cổ phần Đầu Tư Xây Dựng Dầu Khí IDICO  0.347222   \n805     MDC        Công ty Cổ phần Than Mông Dương - Vinacomin  0.400000   \n1222    CNT      Công ty Cổ phần Xây dựng và Kinh doanh vật tư  0.354610   \n1103    CST                 Công ty cổ phần Than Cao Sơn - TKV  0.400000   \n1402    BDG                 CÔNG TY CỔ PHẦN MAY MẶC BÌNH DƯƠNG  0.320513   \n1544    FT1                  Công ty cổ phần Phụ tùng máy số 1  0.278552   \n1400    HDM                        Công ty Cổ phần Dệt May Huế  0.292398   \n1635    HVT                  Công ty Cổ phần Hóa chất Việt Trì  0.303951   \n759     VFR                Công ty Cổ phần Vận tải và Thuê tàu  0.336700   \n760     ANT         Công ty Cổ phần Rau quả thực phẩm An Giang  0.338983   \n1714    DGC        Công ty cổ phần Tập đoàn Hóa chất Đức Giang  0.277778   \n862     SP2                 Công ty cổ phần Thủy điện Sử Pán 2  0.230415   \n507     TCS                 Công ty Cổ phần Than Cao Sơn - TKV  0.450450   \n974     TVD         Công ty Cổ phần than Vàng Danh - Vinacomin  0.265252   \n830     VIP             Công ty Cổ phần Vận tải Xăng dầu VIPCO  0.310559   \n747     CIA   Công ty Cổ phần Dịch vụ Sân bay Quốc tế Cam Ranh  0.305810   \n1656    APF      Công ty Cổ phần Nông sản Thực phẩm Quảng Ngãi  0.223714   \n1652    CLM    Công ty cổ phần Xuất nhập khẩu Than - Vinacomin  0.440529   \n1283    VTR  Công ty cổ phần Du lịch và Tiếp thị Giao thông...  0.197239   \n1563    HAT              Công ty Cổ phần Thương mại Bia Hà Nội  0.214133   \n1729    SLS                   Công ty Cổ phần Mía đường Sơn La  0.195312   \n1648    YTC  Công ty Cổ phần Xuất nhập khẩu Y tế Thành phố ...  0.182149   \n1561    AGX  Công ty Cổ phần Thực phẩm Nông sản Xuất khẩu S...  0.311526   \n593     STW                 Công ty cổ phần Cấp nước Sóc Trăng  0.352113   \n1532    HAH           Công ty Cổ phần Vận tải và xếp dỡ Hải An  0.277008   \n1195    GMX     Công ty Cổ phần Gạch Ngói Gốm Xây dựng Mỹ Xuân  0.211416   \n962     THT             Công ty Cổ phần Than Hà Tu - Vinacomin  0.221729   \n1281    SGR  Công ty Cổ phần Tổng Công ty Cổ phần Địa Ốc Sà...  0.220264   \n1730    HLB      Công ty Cổ phần Bia và Nước giải khát Hạ Long  0.184843   \n1456    HTG               Tổng Công ty Cổ phần Dệt may Hòa Thọ  0.239234   \n1485    DCM            Công ty Cổ phần Phân Bón Dầu khí Cà Mau  0.349650   \n1638    AVC                  Công ty cổ phần Thủy điện A Vương  0.197239   \n642     HNM                         Công ty Cổ phần Sữa Hà Nội  0.217391   \n1481    CSC                    Công ty cổ phần Tập đoàn COTANA  0.280112   \n1218    VIB      Ngân hàng Thương mại Cổ phần Quốc tế Việt Nam  0.198807   \n1304    VNA              Công ty Cổ phần vận tải biển VINASHIP  0.467290   \n1136    M10              Tổng công ty May 10 - Công ty Cổ phần  0.217865   \n1643    TMG  Công ty cổ phần Kim loại màu Thái Nguyên - Vimico  0.173611   \n1694    CAP     Công ty Cổ phần Lâm nông sản thực phẩm Yên Bái  0.162075   \n1715    RAL      Công ty Cổ phần Bóng đèn Phích nước Rạng Đông  0.272480   \n1525    DPM  Tổng Công ty Phân bón và Hóa chất Dầu khí-Công...  0.421941   \n1394    MNB          Tổng công ty May Nhà Bè - Công ty cổ phần  0.244499   \n1025    DNS                       Công ty Cổ phần Thép Đà Nẵng  0.170068   \n941     WTC           Công ty Cổ phần Vận tải thủy - Vinacomin  0.311526   \n1681    GVT                      Công ty Cổ phần Giấy Việt Trì  0.175747   \n1124    TVP                 Công ty Cổ phần Dược phẩm TV.Pharm  0.170648   \n\n         roe  EYRank  ROERank  finalRank  \n997   245.91     1.0      1.0        2.0  \n966   152.64     4.0      3.0        7.0  \n1707   77.95     6.0      7.0       13.0  \n1541   61.28     7.0      9.0       16.0  \n1604  146.94    19.0      4.0       23.0  \n805    42.77    12.5     17.0       29.5  \n1222   43.80    15.0     15.0       30.0  \n1103   35.25    12.5     30.0       42.5  \n1402   39.07    24.0     20.0       44.0  \n1544   51.70    40.0     11.0       51.0  \n1400   38.91    34.0     21.0       55.0  \n1635   35.40    31.0     28.0       59.0  \n759    32.89    22.0     39.0       61.0  \n760    31.05    21.0     44.0       65.0  \n1714   37.80    41.5     24.0       65.5  \n862    92.85    62.0      6.0       68.0  \n507    28.00     9.0     63.0       72.0  \n974    35.03    47.0     32.0       79.0  \n830    28.18    28.0     62.0       90.0  \n747    27.20    30.0     71.5      101.5  \n1656   33.39    66.0     37.0      103.0  \n1652   25.40    10.0     99.0      109.0  \n1283  133.94   104.5      5.0      109.5  \n1563   35.17    79.0     31.0      110.0  \n1729   56.15   108.5     10.0      118.5  \n1648  195.04   127.0      2.0      129.0  \n1561   24.65    26.5    104.0      130.5  \n593    23.24    16.0    120.0      136.0  \n1532   25.68    43.0     95.0      138.0  \n1195   29.26    84.0     56.0      140.0  \n962    27.18    69.0     73.0      142.0  \n1281   27.20    72.0     71.5      143.5  \n1730   38.57   124.0     22.0      146.0  \n1456   25.80    57.0     93.0      150.0  \n1485   21.53    18.0    138.0      156.0  \n1638   29.54   104.5     54.0      158.5  \n642    26.41    77.0     83.0      160.0  \n1481   22.35    39.0    127.0      166.0  \n1218   27.66   101.0     67.0      168.0  \n1304   20.15     8.0    161.0      169.0  \n1136   25.11    75.5    102.0      177.5  \n1643   33.43   142.0     36.0      178.0  \n1694   64.72   171.0      8.0      179.0  \n1715   21.23    45.0    141.0      186.0  \n1525   19.41    11.0    176.0      187.0  \n1394   21.96    55.0    133.0      188.0  \n1025   30.40   147.0     47.0      194.0  \n941    19.57    26.5    173.0      199.5  \n1681   27.91   138.0     64.0      202.0  \n1124   28.66   145.0     58.5      203.5  ",
      "text/html": "<div>\n<style scoped>\n    .dataframe tbody tr th:only-of-type {\n        vertical-align: middle;\n    }\n\n    .dataframe tbody tr th {\n        vertical-align: top;\n    }\n\n    .dataframe thead th {\n        text-align: right;\n    }\n</style>\n<table border=\"1\" class=\"dataframe\">\n  <thead>\n    <tr style=\"text-align: right;\">\n      <th></th>\n      <th>symbol</th>\n      <th>company_name</th>\n      <th>EY</th>\n      <th>roe</th>\n      <th>EYRank</th>\n      <th>ROERank</th>\n      <th>finalRank</th>\n    </tr>\n  </thead>\n  <tbody>\n    <tr>\n      <th>997</th>\n      <td>ABC</td>\n      <td>Công ty cổ phần Truyền thông VMG</td>\n      <td>2.127660</td>\n      <td>245.91</td>\n      <td>1.0</td>\n      <td>1.0</td>\n      <td>2.0</td>\n    </tr>\n    <tr>\n      <th>966</th>\n      <td>TBH</td>\n      <td>Công ty Cổ phần Tổng Bách Hóa</td>\n      <td>0.632911</td>\n      <td>152.64</td>\n      <td>4.0</td>\n      <td>3.0</td>\n      <td>7.0</td>\n    </tr>\n    <tr>\n      <th>1707</th>\n      <td>PAT</td>\n      <td>CTCP Phốt Pho Apatit Việt Nam</td>\n      <td>0.490196</td>\n      <td>77.95</td>\n      <td>6.0</td>\n      <td>7.0</td>\n      <td>13.0</td>\n    </tr>\n    <tr>\n      <th>1541</th>\n      <td>TMB</td>\n      <td>Công ty Cổ phần Kinh doanh Than miền Bắc - Vin...</td>\n      <td>0.480769</td>\n      <td>61.28</td>\n      <td>7.0</td>\n      <td>9.0</td>\n      <td>16.0</td>\n    </tr>\n    <tr>\n      <th>1604</th>\n      <td>ICN</td>\n      <td>Công ty Cổ phần Đầu Tư Xây Dựng Dầu Khí IDICO</td>\n      <td>0.347222</td>\n      <td>146.94</td>\n      <td>19.0</td>\n      <td>4.0</td>\n      <td>23.0</td>\n    </tr>\n    <tr>\n      <th>805</th>\n      <td>MDC</td>\n      <td>Công ty Cổ phần Than Mông Dương - Vinacomin</td>\n      <td>0.400000</td>\n      <td>42.77</td>\n      <td>12.5</td>\n      <td>17.0</td>\n      <td>29.5</td>\n    </tr>\n    <tr>\n      <th>1222</th>\n      <td>CNT</td>\n      <td>Công ty Cổ phần Xây dựng và Kinh doanh vật tư</td>\n      <td>0.354610</td>\n      <td>43.80</td>\n      <td>15.0</td>\n      <td>15.0</td>\n      <td>30.0</td>\n    </tr>\n    <tr>\n      <th>1103</th>\n      <td>CST</td>\n      <td>Công ty cổ phần Than Cao Sơn - TKV</td>\n      <td>0.400000</td>\n      <td>35.25</td>\n      <td>12.5</td>\n      <td>30.0</td>\n      <td>42.5</td>\n    </tr>\n    <tr>\n      <th>1402</th>\n      <td>BDG</td>\n      <td>CÔNG TY CỔ PHẦN MAY MẶC BÌNH DƯƠNG</td>\n      <td>0.320513</td>\n      <td>39.07</td>\n      <td>24.0</td>\n      <td>20.0</td>\n      <td>44.0</td>\n    </tr>\n    <tr>\n      <th>1544</th>\n      <td>FT1</td>\n      <td>Công ty cổ phần Phụ tùng máy số 1</td>\n      <td>0.278552</td>\n      <td>51.70</td>\n      <td>40.0</td>\n      <td>11.0</td>\n      <td>51.0</td>\n    </tr>\n    <tr>\n      <th>1400</th>\n      <td>HDM</td>\n      <td>Công ty Cổ phần Dệt May Huế</td>\n      <td>0.292398</td>\n      <td>38.91</td>\n      <td>34.0</td>\n      <td>21.0</td>\n      <td>55.0</td>\n    </tr>\n    <tr>\n      <th>1635</th>\n      <td>HVT</td>\n      <td>Công ty Cổ phần Hóa chất Việt Trì</td>\n      <td>0.303951</td>\n      <td>35.40</td>\n      <td>31.0</td>\n      <td>28.0</td>\n      <td>59.0</td>\n    </tr>\n    <tr>\n      <th>759</th>\n      <td>VFR</td>\n      <td>Công ty Cổ phần Vận tải và Thuê tàu</td>\n      <td>0.336700</td>\n      <td>32.89</td>\n      <td>22.0</td>\n      <td>39.0</td>\n      <td>61.0</td>\n    </tr>\n    <tr>\n      <th>760</th>\n      <td>ANT</td>\n      <td>Công ty Cổ phần Rau quả thực phẩm An Giang</td>\n      <td>0.338983</td>\n      <td>31.05</td>\n      <td>21.0</td>\n      <td>44.0</td>\n      <td>65.0</td>\n    </tr>\n    <tr>\n      <th>1714</th>\n      <td>DGC</td>\n      <td>Công ty cổ phần Tập đoàn Hóa chất Đức Giang</td>\n      <td>0.277778</td>\n      <td>37.80</td>\n      <td>41.5</td>\n      <td>24.0</td>\n      <td>65.5</td>\n    </tr>\n    <tr>\n      <th>862</th>\n      <td>SP2</td>\n      <td>Công ty cổ phần Thủy điện Sử Pán 2</td>\n      <td>0.230415</td>\n      <td>92.85</td>\n      <td>62.0</td>\n      <td>6.0</td>\n      <td>68.0</td>\n    </tr>\n    <tr>\n      <th>507</th>\n      <td>TCS</td>\n      <td>Công ty Cổ phần Than Cao Sơn - TKV</td>\n      <td>0.450450</td>\n      <td>28.00</td>\n      <td>9.0</td>\n      <td>63.0</td>\n      <td>72.0</td>\n    </tr>\n    <tr>\n      <th>974</th>\n      <td>TVD</td>\n      <td>Công ty Cổ phần than Vàng Danh - Vinacomin</td>\n      <td>0.265252</td>\n      <td>35.03</td>\n      <td>47.0</td>\n      <td>32.0</td>\n      <td>79.0</td>\n    </tr>\n    <tr>\n      <th>830</th>\n      <td>VIP</td>\n      <td>Công ty Cổ phần Vận tải Xăng dầu VIPCO</td>\n      <td>0.310559</td>\n      <td>28.18</td>\n      <td>28.0</td>\n      <td>62.0</td>\n      <td>90.0</td>\n    </tr>\n    <tr>\n      <th>747</th>\n      <td>CIA</td>\n      <td>Công ty Cổ phần Dịch vụ Sân bay Quốc tế Cam Ranh</td>\n      <td>0.305810</td>\n      <td>27.20</td>\n      <td>30.0</td>\n      <td>71.5</td>\n      <td>101.5</td>\n    </tr>\n    <tr>\n      <th>1656</th>\n      <td>APF</td>\n      <td>Công ty Cổ phần Nông sản Thực phẩm Quảng Ngãi</td>\n      <td>0.223714</td>\n      <td>33.39</td>\n      <td>66.0</td>\n      <td>37.0</td>\n      <td>103.0</td>\n    </tr>\n    <tr>\n      <th>1652</th>\n      <td>CLM</td>\n      <td>Công ty cổ phần Xuất nhập khẩu Than - Vinacomin</td>\n      <td>0.440529</td>\n      <td>25.40</td>\n      <td>10.0</td>\n      <td>99.0</td>\n      <td>109.0</td>\n    </tr>\n    <tr>\n      <th>1283</th>\n      <td>VTR</td>\n      <td>Công ty cổ phần Du lịch và Tiếp thị Giao thông...</td>\n      <td>0.197239</td>\n      <td>133.94</td>\n      <td>104.5</td>\n      <td>5.0</td>\n      <td>109.5</td>\n    </tr>\n    <tr>\n      <th>1563</th>\n      <td>HAT</td>\n      <td>Công ty Cổ phần Thương mại Bia Hà Nội</td>\n      <td>0.214133</td>\n      <td>35.17</td>\n      <td>79.0</td>\n      <td>31.0</td>\n      <td>110.0</td>\n    </tr>\n    <tr>\n      <th>1729</th>\n      <td>SLS</td>\n      <td>Công ty Cổ phần Mía đường Sơn La</td>\n      <td>0.195312</td>\n      <td>56.15</td>\n      <td>108.5</td>\n      <td>10.0</td>\n      <td>118.5</td>\n    </tr>\n    <tr>\n      <th>1648</th>\n      <td>YTC</td>\n      <td>Công ty Cổ phần Xuất nhập khẩu Y tế Thành phố ...</td>\n      <td>0.182149</td>\n      <td>195.04</td>\n      <td>127.0</td>\n      <td>2.0</td>\n      <td>129.0</td>\n    </tr>\n    <tr>\n      <th>1561</th>\n      <td>AGX</td>\n      <td>Công ty Cổ phần Thực phẩm Nông sản Xuất khẩu S...</td>\n      <td>0.311526</td>\n      <td>24.65</td>\n      <td>26.5</td>\n      <td>104.0</td>\n      <td>130.5</td>\n    </tr>\n    <tr>\n      <th>593</th>\n      <td>STW</td>\n      <td>Công ty cổ phần Cấp nước Sóc Trăng</td>\n      <td>0.352113</td>\n      <td>23.24</td>\n      <td>16.0</td>\n      <td>120.0</td>\n      <td>136.0</td>\n    </tr>\n    <tr>\n      <th>1532</th>\n      <td>HAH</td>\n      <td>Công ty Cổ phần Vận tải và xếp dỡ Hải An</td>\n      <td>0.277008</td>\n      <td>25.68</td>\n      <td>43.0</td>\n      <td>95.0</td>\n      <td>138.0</td>\n    </tr>\n    <tr>\n      <th>1195</th>\n      <td>GMX</td>\n      <td>Công ty Cổ phần Gạch Ngói Gốm Xây dựng Mỹ Xuân</td>\n      <td>0.211416</td>\n      <td>29.26</td>\n      <td>84.0</td>\n      <td>56.0</td>\n      <td>140.0</td>\n    </tr>\n    <tr>\n      <th>962</th>\n      <td>THT</td>\n      <td>Công ty Cổ phần Than Hà Tu - Vinacomin</td>\n      <td>0.221729</td>\n      <td>27.18</td>\n      <td>69.0</td>\n      <td>73.0</td>\n      <td>142.0</td>\n    </tr>\n    <tr>\n      <th>1281</th>\n      <td>SGR</td>\n      <td>Công ty Cổ phần Tổng Công ty Cổ phần Địa Ốc Sà...</td>\n      <td>0.220264</td>\n      <td>27.20</td>\n      <td>72.0</td>\n      <td>71.5</td>\n      <td>143.5</td>\n    </tr>\n    <tr>\n      <th>1730</th>\n      <td>HLB</td>\n      <td>Công ty Cổ phần Bia và Nước giải khát Hạ Long</td>\n      <td>0.184843</td>\n      <td>38.57</td>\n      <td>124.0</td>\n      <td>22.0</td>\n      <td>146.0</td>\n    </tr>\n    <tr>\n      <th>1456</th>\n      <td>HTG</td>\n      <td>Tổng Công ty Cổ phần Dệt may Hòa Thọ</td>\n      <td>0.239234</td>\n      <td>25.80</td>\n      <td>57.0</td>\n      <td>93.0</td>\n      <td>150.0</td>\n    </tr>\n    <tr>\n      <th>1485</th>\n      <td>DCM</td>\n      <td>Công ty Cổ phần Phân Bón Dầu khí Cà Mau</td>\n      <td>0.349650</td>\n      <td>21.53</td>\n      <td>18.0</td>\n      <td>138.0</td>\n      <td>156.0</td>\n    </tr>\n    <tr>\n      <th>1638</th>\n      <td>AVC</td>\n      <td>Công ty cổ phần Thủy điện A Vương</td>\n      <td>0.197239</td>\n      <td>29.54</td>\n      <td>104.5</td>\n      <td>54.0</td>\n      <td>158.5</td>\n    </tr>\n    <tr>\n      <th>642</th>\n      <td>HNM</td>\n      <td>Công ty Cổ phần Sữa Hà Nội</td>\n      <td>0.217391</td>\n      <td>26.41</td>\n      <td>77.0</td>\n      <td>83.0</td>\n      <td>160.0</td>\n    </tr>\n    <tr>\n      <th>1481</th>\n      <td>CSC</td>\n      <td>Công ty cổ phần Tập đoàn COTANA</td>\n      <td>0.280112</td>\n      <td>22.35</td>\n      <td>39.0</td>\n      <td>127.0</td>\n      <td>166.0</td>\n    </tr>\n    <tr>\n      <th>1218</th>\n      <td>VIB</td>\n      <td>Ngân hàng Thương mại Cổ phần Quốc tế Việt Nam</td>\n      <td>0.198807</td>\n      <td>27.66</td>\n      <td>101.0</td>\n      <td>67.0</td>\n      <td>168.0</td>\n    </tr>\n    <tr>\n      <th>1304</th>\n      <td>VNA</td>\n      <td>Công ty Cổ phần vận tải biển VINASHIP</td>\n      <td>0.467290</td>\n      <td>20.15</td>\n      <td>8.0</td>\n      <td>161.0</td>\n      <td>169.0</td>\n    </tr>\n    <tr>\n      <th>1136</th>\n      <td>M10</td>\n      <td>Tổng công ty May 10 - Công ty Cổ phần</td>\n      <td>0.217865</td>\n      <td>25.11</td>\n      <td>75.5</td>\n      <td>102.0</td>\n      <td>177.5</td>\n    </tr>\n    <tr>\n      <th>1643</th>\n      <td>TMG</td>\n      <td>Công ty cổ phần Kim loại màu Thái Nguyên - Vimico</td>\n      <td>0.173611</td>\n      <td>33.43</td>\n      <td>142.0</td>\n      <td>36.0</td>\n      <td>178.0</td>\n    </tr>\n    <tr>\n      <th>1694</th>\n      <td>CAP</td>\n      <td>Công ty Cổ phần Lâm nông sản thực phẩm Yên Bái</td>\n      <td>0.162075</td>\n      <td>64.72</td>\n      <td>171.0</td>\n      <td>8.0</td>\n      <td>179.0</td>\n    </tr>\n    <tr>\n      <th>1715</th>\n      <td>RAL</td>\n      <td>Công ty Cổ phần Bóng đèn Phích nước Rạng Đông</td>\n      <td>0.272480</td>\n      <td>21.23</td>\n      <td>45.0</td>\n      <td>141.0</td>\n      <td>186.0</td>\n    </tr>\n    <tr>\n      <th>1525</th>\n      <td>DPM</td>\n      <td>Tổng Công ty Phân bón và Hóa chất Dầu khí-Công...</td>\n      <td>0.421941</td>\n      <td>19.41</td>\n      <td>11.0</td>\n      <td>176.0</td>\n      <td>187.0</td>\n    </tr>\n    <tr>\n      <th>1394</th>\n      <td>MNB</td>\n      <td>Tổng công ty May Nhà Bè - Công ty cổ phần</td>\n      <td>0.244499</td>\n      <td>21.96</td>\n      <td>55.0</td>\n      <td>133.0</td>\n      <td>188.0</td>\n    </tr>\n    <tr>\n      <th>1025</th>\n      <td>DNS</td>\n      <td>Công ty Cổ phần Thép Đà Nẵng</td>\n      <td>0.170068</td>\n      <td>30.40</td>\n      <td>147.0</td>\n      <td>47.0</td>\n      <td>194.0</td>\n    </tr>\n    <tr>\n      <th>941</th>\n      <td>WTC</td>\n      <td>Công ty Cổ phần Vận tải thủy - Vinacomin</td>\n      <td>0.311526</td>\n      <td>19.57</td>\n      <td>26.5</td>\n      <td>173.0</td>\n      <td>199.5</td>\n    </tr>\n    <tr>\n      <th>1681</th>\n      <td>GVT</td>\n      <td>Công ty Cổ phần Giấy Việt Trì</td>\n      <td>0.175747</td>\n      <td>27.91</td>\n      <td>138.0</td>\n      <td>64.0</td>\n      <td>202.0</td>\n    </tr>\n    <tr>\n      <th>1124</th>\n      <td>TVP</td>\n      <td>Công ty Cổ phần Dược phẩm TV.Pharm</td>\n      <td>0.170648</td>\n      <td>28.66</td>\n      <td>145.0</td>\n      <td>58.5</td>\n      <td>203.5</td>\n    </tr>\n  </tbody>\n</table>\n</div>"
     },
     "execution_count": 192,
     "metadata": {},
     "output_type": "execute_result"
    }
   ],
   "source": [
    "# Get the symbol, company_name, EY, ROE, EYRank, and ROERank of the top 50 stocks\n",
    "stocksCollection = stocksCollection[['symbol', 'company_name', 'EY', 'roe', 'EYRank', 'ROERank', 'finalRank']]\n",
    "stocksCollection\n"
   ],
   "metadata": {
    "collapsed": false,
    "ExecuteTime": {
     "end_time": "2023-09-24T15:06:18.862742015Z",
     "start_time": "2023-09-24T15:06:18.860920123Z"
    }
   },
   "id": "10776b6281fe3aec"
  },
  {
   "cell_type": "code",
   "execution_count": 192,
   "outputs": [],
   "source": [],
   "metadata": {
    "collapsed": false,
    "ExecuteTime": {
     "end_time": "2023-09-24T15:06:18.962265629Z",
     "start_time": "2023-09-24T15:06:18.861747034Z"
    }
   },
   "id": "525a8828644f4d7e"
  }
 ],
 "metadata": {
  "kernelspec": {
   "display_name": "Python 3",
   "language": "python",
   "name": "python3"
  },
  "language_info": {
   "codemirror_mode": {
    "name": "ipython",
    "version": 2
   },
   "file_extension": ".py",
   "mimetype": "text/x-python",
   "name": "python",
   "nbconvert_exporter": "python",
   "pygments_lexer": "ipython2",
   "version": "2.7.6"
  }
 },
 "nbformat": 4,
 "nbformat_minor": 5
}
