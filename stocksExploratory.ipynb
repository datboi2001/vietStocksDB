{
 "cells": [
  {
   "cell_type": "code",
   "execution_count": 33,
   "id": "initial_id",
   "metadata": {
    "collapsed": true,
    "ExecuteTime": {
     "end_time": "2023-09-26T15:14:43.616226525Z",
     "start_time": "2023-09-26T15:14:43.609786932Z"
    }
   },
   "outputs": [],
   "source": [
    "import pandas as pd\n",
    "from src.DBInterface import DBInterface\n",
    "from bson import json_util\n",
    "from datetime import datetime\n"
   ]
  },
  {
   "cell_type": "markdown",
   "source": [
    "# Get all stocks from the database"
   ],
   "metadata": {
    "collapsed": false
   },
   "id": "94bdf6c875027d5e"
  },
  {
   "cell_type": "code",
   "execution_count": 43,
   "outputs": [],
   "source": [
    "db_interface = DBInterface('mongodb://localhost:27017/?readPreference=primary', 'stocksDB', 'vietStocks')\n"
   ],
   "metadata": {
    "collapsed": false,
    "ExecuteTime": {
     "end_time": "2023-09-26T15:17:23.957603767Z",
     "start_time": "2023-09-26T15:17:23.914645527Z"
    }
   },
   "id": "bca9293cff489f27"
  },
  {
   "cell_type": "code",
   "execution_count": 44,
   "outputs": [],
   "source": [
    "def to_csv(df: pd.DataFrame) -> None:\n",
    "    \"\"\"\n",
    "    Write a dataframe to a csv file\n",
    "    :param df: A dataframe\n",
    "    :return: None\n",
    "    \"\"\"\n",
    "    today = datetime.today().strftime('%Y-%m-%d')\n",
    "    df.to_csv(f'data/top50_EY_ROE_rankings_{today}.csv', index=False)\n"
   ],
   "metadata": {
    "collapsed": false,
    "ExecuteTime": {
     "end_time": "2023-09-26T15:17:24.274182718Z",
     "start_time": "2023-09-26T15:17:24.270825002Z"
    }
   },
   "id": "13a86af7c25c66df"
  },
  {
   "cell_type": "code",
   "execution_count": 45,
   "outputs": [],
   "source": [
    "EYDenseRank = {\n",
    "    '$setWindowFields': {\"partitionBy\": None, \"sortBy\": {\"EY\": -1}, \"output\": {\"EYRank\": {\"$denseRank\": {}}}}}\n",
    "\n",
    "ROEDenseRank = {\n",
    "    '$setWindowFields': {\"partitionBy\": None, \"sortBy\": {\"roe\": -1}, \"output\": {\"ROERank\": {\"$denseRank\": {}}}}}\n",
    "match_stage = {'$match': {\"$and\": [{\"market_cap\": {\"$gt\": 100}}, {\"pe\": {\"$ne\": 0}}]}}\n",
    "result = db_interface.collection.aggregate(\n",
    "    [match_stage,\n",
    "     # Create a new column, EY, which is the inverse of PE\n",
    "     {'$addFields': {'EY': {'$divide': [1, '$pe']}}},\n",
    "     # Create two columns: EYRank and ROERank. EYRank contains the ranking of each stock's EY, and ROERank contains the ranking of each stock's ROE \n",
    "     EYDenseRank,\n",
    "     ROEDenseRank,\n",
    "     {'$addFields': {'finalRank': {'$add': ['$EYRank', '$ROERank']}}},\n",
    "     {'$sort': {'finalRank': 1}},\n",
    "     {'$limit': 50},\n",
    "     {'$project': {'_id': 0, 'symbol': 1, 'company_name': 1, 'EY': 1, 'roe': 1, 'floor': 1,\n",
    "                   'EYRank': 1, 'ROERank': 1, 'finalRank': 1}}\n",
    "     ]\n",
    ")\n",
    "\n",
    "# Write to a csv file\n",
    "df = pd.DataFrame(result)\n",
    "to_csv(df)\n",
    "\n"
   ],
   "metadata": {
    "collapsed": false,
    "ExecuteTime": {
     "end_time": "2023-09-26T15:17:24.811350894Z",
     "start_time": "2023-09-26T15:17:24.798137247Z"
    }
   },
   "id": "c55bc614455d5fd7"
  },
  {
   "cell_type": "code",
   "execution_count": 37,
   "outputs": [
    {
     "data": {
      "text/plain": "_id                   1104\navg_trading_vol_10    1104\navg_trading_vol_5     1104\nbook_value            1104\ncompany_name          1104\neps                   1104\neps4Q                 1104\nev_per_ebit           1104\nev_per_ebitda         1104\nfloor                 1104\nicb_group             1104\nid                    1104\nindex_code            1104\nmarket_cap            1104\nmatch_price_10        1104\nmatch_price_5         1104\npb                    1104\npb4Q                  1104\npe                    1104\npe4Q                  1104\nprofit_after_tax      1104\nroa                   1104\nroe                   1104\nsymbol                1104\nthe_beta              1104\nthe_beta4Q            1104\nyear                  1104\nmatch_price           1104\nchange_price          1104\nchange_percent        1104\naccumylated_vol       1104\nceiling_price         1104\nfloor_price           1104\ndate                  1104\ndtype: int64"
     },
     "execution_count": 37,
     "metadata": {},
     "output_type": "execute_result"
    }
   ],
   "source": [
    "# Another way to do it\n",
    "\n",
    "all_stocks = db_interface.collection.find({})\n",
    "\n",
    "# Write to a json file\n",
    "with open('data/vietStocks.json', 'w') as f:\n",
    "    f.write(json_util.dumps(all_stocks))\n",
    "\n",
    "# Filter all stocks with eps > 0 or eps4Q > 0\n",
    "\n",
    "stocksCollection = pd.read_json('data/vietStocks.json')\n",
    "stocksCollection = stocksCollection[(stocksCollection['market_cap'] > 100) & (stocksCollection['pe'] != 0)]\n",
    "stocksCollection.count()"
   ],
   "metadata": {
    "collapsed": false,
    "ExecuteTime": {
     "end_time": "2023-09-26T15:14:43.888021540Z",
     "start_time": "2023-09-26T15:14:43.653863103Z"
    }
   },
   "id": "1e74c17617aff9b0"
  },
  {
   "cell_type": "code",
   "execution_count": 38,
   "outputs": [],
   "source": [
    "# Create a new column, EY, which is the inverse of PE\n",
    "stocksCollection['EY'] = 1 / stocksCollection['pe']"
   ],
   "metadata": {
    "collapsed": false,
    "ExecuteTime": {
     "end_time": "2023-09-26T15:14:43.888217221Z",
     "start_time": "2023-09-26T15:14:43.881428667Z"
    }
   },
   "id": "b36de76c7bd2e99b"
  },
  {
   "cell_type": "code",
   "execution_count": 39,
   "outputs": [],
   "source": [
    "# Create two columns: EYRank and ROERank. EYRank contains the ranking of each stock's EY, and ROERank contains the ranking of each stock's ROE\n",
    "stocksCollection['EYRank'] = stocksCollection['EY'].rank(ascending=False)\n",
    "stocksCollection['ROERank'] = stocksCollection['roe'].rank(ascending=False)\n",
    "stocksCollection['finalRank'] = stocksCollection['EYRank'] + stocksCollection['ROERank']"
   ],
   "metadata": {
    "collapsed": false,
    "ExecuteTime": {
     "end_time": "2023-09-26T15:14:43.888331471Z",
     "start_time": "2023-09-26T15:14:43.883579271Z"
    }
   },
   "id": "357ffdb4e163acdf"
  },
  {
   "cell_type": "code",
   "execution_count": 40,
   "outputs": [
    {
     "data": {
      "text/plain": "                                       _id  avg_trading_vol_10  \\\n36    {'$oid': '651034a433bdb847a5cec6d7'}                   0   \n49    {'$oid': '651034a433bdb847a5cec6f1'}                   0   \n65    {'$oid': '651034a433bdb847a5cec711'}                   0   \n73    {'$oid': '651034a433bdb847a5cec721'}                   0   \n79    {'$oid': '651034a433bdb847a5cec72d'}                   0   \n...                                    ...                 ...   \n1728  {'$oid': '651034a533bdb847a5ced40f'}               18760   \n1729  {'$oid': '651034a533bdb847a5ced411'}                  70   \n1730  {'$oid': '651034a533bdb847a5ced413'}                  10   \n1731  {'$oid': '651034a533bdb847a5ced415'}                  10   \n1732  {'$oid': '651034a533bdb847a5ced417'}                2754   \n\n      avg_trading_vol_5  book_value  \\\n36                  0.0        9957   \n49                  0.0       10415   \n65                  0.0       11942   \n73                  0.0        2414   \n79                  0.0        9427   \n...                 ...         ...   \n1728             8720.0       86685   \n1729                0.0      121271   \n1730               40.0       12992   \n1731               60.0       10000   \n1732              620.0      180949   \n\n                                           company_name    eps  eps4Q  \\\n36    Công ty cổ phần Đầu tư Thương mại và Xuất nhập...   -543   -724   \n49       Công ty cổ phần đầu tư và khoáng sản FLC Stone   -914   -782   \n65                      Công ty cổ phần Chứng khoán BOS    349    349   \n73                           Công ty Cổ phần Hùng Vương  -5619  -5707   \n79                      Công ty Cổ phần Nông dược H.A.I    133  -3129   \n...                                                 ...    ...    ...   \n1728                   Công ty Cổ phần Mía đường Sơn La  31557  53423   \n1729      Công ty Cổ phần Bia và Nước giải khát Hạ Long  41232  26691   \n1730               Công ty Cổ phần Xây dựng điện VNECO4  -1851  -3123   \n1731      Công ty TNHH MTV Xây dựng Công trình Tân Cảng   1048   1048   \n1732                                Công ty cổ phần VNG -29870 -17453   \n\n      ev_per_ebit  ev_per_ebitda  floor  ...  change_price  change_percent  \\\n36          -5.60          -5.76    HNX  ...           0.0            0.00   \n49          -3.75          -4.98  UPCOM  ...           0.0            0.00   \n65           3.36           2.94  UPCOM  ...           0.0            0.00   \n73          -3.90          -4.50  UPCOM  ...           0.0            0.00   \n79         274.51          76.28  UPCOM  ...           0.0            0.00   \n...           ...            ...    ...  ...           ...             ...   \n1728         5.26           4.51    HNX  ...          -1.9           -0.94   \n1729         3.58           2.58  UPCOM  ...          33.4           14.98   \n1730       -52.78         -81.34    HNX  ...           0.0            0.00   \n1731       438.12         300.78  UPCOM  ...           0.0            0.00   \n1732       -29.62         -56.16  UPCOM  ...          -5.8           -0.67   \n\n     accumylated_vol  ceiling_price  floor_price       date        EY  EYRank  \\\n36                 0            0.9          0.7 2023-09-26 -0.680272  1091.0   \n49                 0            1.5          0.7 2023-09-26 -0.826446  1095.0   \n65                 0            1.8          0.8 2023-09-26  0.268817    46.0   \n73                 0            1.6          1.2 2023-09-26 -4.000000  1104.0   \n79                 0            2.1          0.9 2023-09-26  0.088889   489.0   \n...              ...            ...          ...        ...       ...     ...   \n1728            2140          222.2        181.8 2023-09-26  0.195312   107.5   \n1729              40          256.4        189.6 2023-09-26  0.184843   124.5   \n1730               0          262.1        214.5 2023-09-26 -0.016832   999.0   \n1731               0          498.5        368.5 2023-09-26  0.002418   948.0   \n1732              50          993.0        734.0 2023-09-26 -0.037106  1016.0   \n\n      ROERank  finalRank  \n36     1030.0     2121.0  \n49     1033.0     2128.0  \n65      739.0      785.0  \n73     1100.0     2204.0  \n79      807.5     1296.5  \n...       ...        ...  \n1728     10.0      117.5  \n1729     23.0      147.5  \n1730   1076.0     2075.0  \n1731    422.0     1370.0  \n1732   1049.0     2065.0  \n\n[1104 rows x 38 columns]",
      "text/html": "<div>\n<style scoped>\n    .dataframe tbody tr th:only-of-type {\n        vertical-align: middle;\n    }\n\n    .dataframe tbody tr th {\n        vertical-align: top;\n    }\n\n    .dataframe thead th {\n        text-align: right;\n    }\n</style>\n<table border=\"1\" class=\"dataframe\">\n  <thead>\n    <tr style=\"text-align: right;\">\n      <th></th>\n      <th>_id</th>\n      <th>avg_trading_vol_10</th>\n      <th>avg_trading_vol_5</th>\n      <th>book_value</th>\n      <th>company_name</th>\n      <th>eps</th>\n      <th>eps4Q</th>\n      <th>ev_per_ebit</th>\n      <th>ev_per_ebitda</th>\n      <th>floor</th>\n      <th>...</th>\n      <th>change_price</th>\n      <th>change_percent</th>\n      <th>accumylated_vol</th>\n      <th>ceiling_price</th>\n      <th>floor_price</th>\n      <th>date</th>\n      <th>EY</th>\n      <th>EYRank</th>\n      <th>ROERank</th>\n      <th>finalRank</th>\n    </tr>\n  </thead>\n  <tbody>\n    <tr>\n      <th>36</th>\n      <td>{'$oid': '651034a433bdb847a5cec6d7'}</td>\n      <td>0</td>\n      <td>0.0</td>\n      <td>9957</td>\n      <td>Công ty cổ phần Đầu tư Thương mại và Xuất nhập...</td>\n      <td>-543</td>\n      <td>-724</td>\n      <td>-5.60</td>\n      <td>-5.76</td>\n      <td>HNX</td>\n      <td>...</td>\n      <td>0.0</td>\n      <td>0.00</td>\n      <td>0</td>\n      <td>0.9</td>\n      <td>0.7</td>\n      <td>2023-09-26</td>\n      <td>-0.680272</td>\n      <td>1091.0</td>\n      <td>1030.0</td>\n      <td>2121.0</td>\n    </tr>\n    <tr>\n      <th>49</th>\n      <td>{'$oid': '651034a433bdb847a5cec6f1'}</td>\n      <td>0</td>\n      <td>0.0</td>\n      <td>10415</td>\n      <td>Công ty cổ phần đầu tư và khoáng sản FLC Stone</td>\n      <td>-914</td>\n      <td>-782</td>\n      <td>-3.75</td>\n      <td>-4.98</td>\n      <td>UPCOM</td>\n      <td>...</td>\n      <td>0.0</td>\n      <td>0.00</td>\n      <td>0</td>\n      <td>1.5</td>\n      <td>0.7</td>\n      <td>2023-09-26</td>\n      <td>-0.826446</td>\n      <td>1095.0</td>\n      <td>1033.0</td>\n      <td>2128.0</td>\n    </tr>\n    <tr>\n      <th>65</th>\n      <td>{'$oid': '651034a433bdb847a5cec711'}</td>\n      <td>0</td>\n      <td>0.0</td>\n      <td>11942</td>\n      <td>Công ty cổ phần Chứng khoán BOS</td>\n      <td>349</td>\n      <td>349</td>\n      <td>3.36</td>\n      <td>2.94</td>\n      <td>UPCOM</td>\n      <td>...</td>\n      <td>0.0</td>\n      <td>0.00</td>\n      <td>0</td>\n      <td>1.8</td>\n      <td>0.8</td>\n      <td>2023-09-26</td>\n      <td>0.268817</td>\n      <td>46.0</td>\n      <td>739.0</td>\n      <td>785.0</td>\n    </tr>\n    <tr>\n      <th>73</th>\n      <td>{'$oid': '651034a433bdb847a5cec721'}</td>\n      <td>0</td>\n      <td>0.0</td>\n      <td>2414</td>\n      <td>Công ty Cổ phần Hùng Vương</td>\n      <td>-5619</td>\n      <td>-5707</td>\n      <td>-3.90</td>\n      <td>-4.50</td>\n      <td>UPCOM</td>\n      <td>...</td>\n      <td>0.0</td>\n      <td>0.00</td>\n      <td>0</td>\n      <td>1.6</td>\n      <td>1.2</td>\n      <td>2023-09-26</td>\n      <td>-4.000000</td>\n      <td>1104.0</td>\n      <td>1100.0</td>\n      <td>2204.0</td>\n    </tr>\n    <tr>\n      <th>79</th>\n      <td>{'$oid': '651034a433bdb847a5cec72d'}</td>\n      <td>0</td>\n      <td>0.0</td>\n      <td>9427</td>\n      <td>Công ty Cổ phần Nông dược H.A.I</td>\n      <td>133</td>\n      <td>-3129</td>\n      <td>274.51</td>\n      <td>76.28</td>\n      <td>UPCOM</td>\n      <td>...</td>\n      <td>0.0</td>\n      <td>0.00</td>\n      <td>0</td>\n      <td>2.1</td>\n      <td>0.9</td>\n      <td>2023-09-26</td>\n      <td>0.088889</td>\n      <td>489.0</td>\n      <td>807.5</td>\n      <td>1296.5</td>\n    </tr>\n    <tr>\n      <th>...</th>\n      <td>...</td>\n      <td>...</td>\n      <td>...</td>\n      <td>...</td>\n      <td>...</td>\n      <td>...</td>\n      <td>...</td>\n      <td>...</td>\n      <td>...</td>\n      <td>...</td>\n      <td>...</td>\n      <td>...</td>\n      <td>...</td>\n      <td>...</td>\n      <td>...</td>\n      <td>...</td>\n      <td>...</td>\n      <td>...</td>\n      <td>...</td>\n      <td>...</td>\n      <td>...</td>\n    </tr>\n    <tr>\n      <th>1728</th>\n      <td>{'$oid': '651034a533bdb847a5ced40f'}</td>\n      <td>18760</td>\n      <td>8720.0</td>\n      <td>86685</td>\n      <td>Công ty Cổ phần Mía đường Sơn La</td>\n      <td>31557</td>\n      <td>53423</td>\n      <td>5.26</td>\n      <td>4.51</td>\n      <td>HNX</td>\n      <td>...</td>\n      <td>-1.9</td>\n      <td>-0.94</td>\n      <td>2140</td>\n      <td>222.2</td>\n      <td>181.8</td>\n      <td>2023-09-26</td>\n      <td>0.195312</td>\n      <td>107.5</td>\n      <td>10.0</td>\n      <td>117.5</td>\n    </tr>\n    <tr>\n      <th>1729</th>\n      <td>{'$oid': '651034a533bdb847a5ced411'}</td>\n      <td>70</td>\n      <td>0.0</td>\n      <td>121271</td>\n      <td>Công ty Cổ phần Bia và Nước giải khát Hạ Long</td>\n      <td>41232</td>\n      <td>26691</td>\n      <td>3.58</td>\n      <td>2.58</td>\n      <td>UPCOM</td>\n      <td>...</td>\n      <td>33.4</td>\n      <td>14.98</td>\n      <td>40</td>\n      <td>256.4</td>\n      <td>189.6</td>\n      <td>2023-09-26</td>\n      <td>0.184843</td>\n      <td>124.5</td>\n      <td>23.0</td>\n      <td>147.5</td>\n    </tr>\n    <tr>\n      <th>1730</th>\n      <td>{'$oid': '651034a533bdb847a5ced413'}</td>\n      <td>10</td>\n      <td>40.0</td>\n      <td>12992</td>\n      <td>Công ty Cổ phần Xây dựng điện VNECO4</td>\n      <td>-1851</td>\n      <td>-3123</td>\n      <td>-52.78</td>\n      <td>-81.34</td>\n      <td>HNX</td>\n      <td>...</td>\n      <td>0.0</td>\n      <td>0.00</td>\n      <td>0</td>\n      <td>262.1</td>\n      <td>214.5</td>\n      <td>2023-09-26</td>\n      <td>-0.016832</td>\n      <td>999.0</td>\n      <td>1076.0</td>\n      <td>2075.0</td>\n    </tr>\n    <tr>\n      <th>1731</th>\n      <td>{'$oid': '651034a533bdb847a5ced415'}</td>\n      <td>10</td>\n      <td>60.0</td>\n      <td>10000</td>\n      <td>Công ty TNHH MTV Xây dựng Công trình Tân Cảng</td>\n      <td>1048</td>\n      <td>1048</td>\n      <td>438.12</td>\n      <td>300.78</td>\n      <td>UPCOM</td>\n      <td>...</td>\n      <td>0.0</td>\n      <td>0.00</td>\n      <td>0</td>\n      <td>498.5</td>\n      <td>368.5</td>\n      <td>2023-09-26</td>\n      <td>0.002418</td>\n      <td>948.0</td>\n      <td>422.0</td>\n      <td>1370.0</td>\n    </tr>\n    <tr>\n      <th>1732</th>\n      <td>{'$oid': '651034a533bdb847a5ced417'}</td>\n      <td>2754</td>\n      <td>620.0</td>\n      <td>180949</td>\n      <td>Công ty cổ phần VNG</td>\n      <td>-29870</td>\n      <td>-17453</td>\n      <td>-29.62</td>\n      <td>-56.16</td>\n      <td>UPCOM</td>\n      <td>...</td>\n      <td>-5.8</td>\n      <td>-0.67</td>\n      <td>50</td>\n      <td>993.0</td>\n      <td>734.0</td>\n      <td>2023-09-26</td>\n      <td>-0.037106</td>\n      <td>1016.0</td>\n      <td>1049.0</td>\n      <td>2065.0</td>\n    </tr>\n  </tbody>\n</table>\n<p>1104 rows × 38 columns</p>\n</div>"
     },
     "execution_count": 40,
     "metadata": {},
     "output_type": "execute_result"
    }
   ],
   "source": [
    "stocksCollection"
   ],
   "metadata": {
    "collapsed": false,
    "ExecuteTime": {
     "end_time": "2023-09-26T15:14:43.903616373Z",
     "start_time": "2023-09-26T15:14:43.887287269Z"
    }
   },
   "id": "d59a1109736a3071"
  },
  {
   "cell_type": "code",
   "execution_count": 41,
   "outputs": [],
   "source": [
    "# Get the top 50 stocks with the highest finalRank\n",
    "stocksCollection = stocksCollection.sort_values(by=['finalRank'], ascending=True).head(50)"
   ],
   "metadata": {
    "collapsed": false,
    "ExecuteTime": {
     "end_time": "2023-09-26T15:14:43.989614541Z",
     "start_time": "2023-09-26T15:14:43.901972040Z"
    }
   },
   "id": "f49a05871590629d"
  },
  {
   "cell_type": "code",
   "execution_count": 42,
   "outputs": [],
   "source": [
    "# Get the symbol, company_name, EY, ROE, EYRank, and ROERank of the top 50 stocks\n",
    "\n",
    "stocksCollection = stocksCollection[['symbol', 'company_name', 'EY', 'roe', 'floor', 'EYRank', 'ROERank', 'finalRank']]\n",
    "today = datetime.today().strftime('%Y-%m-%d')\n",
    "stocksCollection.to_csv(f'data/top50_EY_ROE_rankings_{today}.csv', index=False)\n"
   ],
   "metadata": {
    "collapsed": false,
    "ExecuteTime": {
     "end_time": "2023-09-26T15:14:43.991253525Z",
     "start_time": "2023-09-26T15:14:43.949623369Z"
    }
   },
   "id": "10776b6281fe3aec"
  },
  {
   "cell_type": "code",
   "execution_count": 42,
   "outputs": [],
   "source": [],
   "metadata": {
    "collapsed": false,
    "ExecuteTime": {
     "end_time": "2023-09-26T15:14:43.991439276Z",
     "start_time": "2023-09-26T15:14:43.949824039Z"
    }
   },
   "id": "9a67308a46f221f2"
  },
  {
   "cell_type": "code",
   "execution_count": 42,
   "outputs": [],
   "source": [],
   "metadata": {
    "collapsed": false,
    "ExecuteTime": {
     "end_time": "2023-09-26T15:14:43.991550526Z",
     "start_time": "2023-09-26T15:14:43.949931629Z"
    }
   },
   "id": "525a8828644f4d7e"
  }
 ],
 "metadata": {
  "kernelspec": {
   "display_name": "Python 3",
   "language": "python",
   "name": "python3"
  },
  "language_info": {
   "codemirror_mode": {
    "name": "ipython",
    "version": 2
   },
   "file_extension": ".py",
   "mimetype": "text/x-python",
   "name": "python",
   "nbconvert_exporter": "python",
   "pygments_lexer": "ipython2",
   "version": "2.7.6"
  }
 },
 "nbformat": 4,
 "nbformat_minor": 5
}
